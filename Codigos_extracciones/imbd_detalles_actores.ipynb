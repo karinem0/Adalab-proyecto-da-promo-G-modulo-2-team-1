{
 "cells": [
  {
   "cell_type": "code",
   "execution_count": null,
   "metadata": {
    "ExecuteTime": {
     "end_time": "2024-03-03T20:43:03.382090Z",
     "start_time": "2024-03-03T20:43:02.475989Z"
    },
    "collapsed": false
   },
   "outputs": [],
   "source": [
    "!pip install tqdm"
   ]
  },
  {
   "cell_type": "code",
   "execution_count": null,
   "metadata": {
    "ExecuteTime": {
     "end_time": "2024-03-03T20:43:03.386183Z",
     "start_time": "2024-03-03T20:43:03.382637Z"
    },
    "collapsed": false
   },
   "outputs": [],
   "source": [
    "import random\n",
    "import re\n",
    "from time import sleep\n",
    "\n",
    "import pandas as pd\n",
    "from selenium import webdriver\n",
    "\n",
    "import tqdm"
   ]
  },
  {
   "cell_type": "code",
   "execution_count": null,
   "metadata": {
    "ExecuteTime": {
     "end_time": "2024-03-03T20:34:28.839241Z",
     "start_time": "2024-03-03T20:34:28.837223Z"
    },
    "collapsed": false
   },
   "outputs": [],
   "source": [
    "def obtener_lista_actores_unicos(ficheros_csv, columna_actor):\n",
    "    \n",
    "    # Lista para almacenar todos los DataFrames\n",
    "    total = []\n",
    "\n",
    "    # Iterar sobre los archivos y cargarlos en DataFrames\n",
    "    for fichero in ficheros_csv:\n",
    "        df = pd.read_csv(fichero, index_col= \"actores\")\n",
    "        total.append(df)\n",
    "\n",
    "    # Concatenar todos los DataFrames en uno solo\n",
    "    df_concatenado = pd.concat(total)\n",
    "    \n",
    "    # Eliminar duplicados\n",
    "    df_concatenado = df_concatenado.drop_duplicates(subset=[columna_actor])\n",
    "    print(df_concatenado.head())\n",
    "\n",
    "    # devolver lista de actores\n",
    "    return list(df_concatenado[columna_actor])"
   ]
  },
  {
   "cell_type": "code",
   "execution_count": null,
   "metadata": {
    "ExecuteTime": {
     "end_time": "2024-03-03T20:53:53.094869Z",
     "start_time": "2024-03-03T20:53:53.089962Z"
    },
    "collapsed": false
   },
   "outputs": [],
   "source": [
    "def guardar_resultados(lista_datos, fichero_csv):\n",
    "    df = pd.DataFrame(lista_datos)\n",
    "    df.columns = [\"actor\", \"año nacimiento\", \"que hace\", \"conocido por\", \"lista premios\"]\n",
    "    df.to_csv(fichero_csv)"
   ]
  },
  {
   "cell_type": "code",
   "execution_count": null,
   "metadata": {
    "ExecuteTime": {
     "end_time": "2024-03-03T20:49:49.846980Z",
     "start_time": "2024-03-03T20:49:49.840258Z"
    },
    "collapsed": false
   },
   "outputs": [],
   "source": [
    "def obtener_informacion_actores(lista_actores, guardar_en_csv):\n",
    "    \n",
    "    # cargar chrome en español\n",
    "    options = webdriver.ChromeOptions()\n",
    "    options.add_argument(\"--accept-lang=es\")\n",
    "    driver = webdriver.Chrome(options=options)\n",
    "    driver.maximize_window()\n",
    "\n",
    "    # variable para los descansos\n",
    "    proximo_descanso = random.randint(50,200)\n",
    "    \n",
    "    #Definimos una lista para guardar los resultados \n",
    "    resultados = []\n",
    "    \n",
    "    # Iterar sobre los actores del DataFrame\n",
    "    for indice, actor in enumerate(tqdm.tqdm(lista_actores)):\n",
    "        #Hace cada vez que itera 200 actores \n",
    "        if indice % 200 == 0 and indice > 0: \n",
    "            print(f\"Guardando copia parcial de actores en {guardar_en_csv}. Van {indice + 1} actores.\")\n",
    "            guardar_resultados(resultados, guardar_en_csv)\n",
    "            \n",
    "        # descanso de vez en cuando\n",
    "        if indice > proximo_descanso:\n",
    "            print(\"Descansando un poco\")\n",
    "            proximo_descanso = indice + random.randint(50,200)\n",
    "            sleep(random.uniform(10,30))\n",
    "        try:\n",
    "            #obtener información del actor de la funcion obtener_informacion_actor \n",
    "            info_actor = obtener_informacion_actor(driver, actor)\n",
    "            resultados.append(info_actor)\n",
    "        except:\n",
    "            pass\n",
    "        \n",
    "    print(f\"Guardando la información de los actores en {guardar_en_csv}\")\n",
    "    guardar_resultados(resultados, guardar_en_csv)\n",
    "    return resultados\n"
   ]
  },
  {
   "cell_type": "code",
   "execution_count": null,
   "metadata": {
    "ExecuteTime": {
     "end_time": "2024-03-03T20:49:47.722998Z",
     "start_time": "2024-03-03T20:49:47.714379Z"
    },
    "collapsed": false
   },
   "outputs": [],
   "source": [
    "def obtener_informacion_actor(driver, actor):\n",
    "    # Abre la página de IMDB para buscar al actor\n",
    "    driver.get(f\"https://www.imdb.com/search/name/?name={actor}\")\n",
    "    sleep(random.uniform(0.8, 1.6))\n",
    "\n",
    "    # Click en el primer resultado\n",
    "    driver.find_element(\"tag name\",\"h3\").click()\n",
    "    sleep(random.uniform(0.8, 1.6))\n",
    "\n",
    "    # Obtener información sobre el actor\n",
    "    try:\n",
    "        que_hace = driver.find_element('xpath',\n",
    "            '//*[@id=\"__next\"]/main/div/section[1]/section/div[3]/section/section/div[2]/div/ul').text\n",
    "        que_hace =  que_hace.split(\"\\n\")\n",
    "    except:\n",
    "        que_hace = [\"Reparto\"]\n",
    "    allweb = driver.find_element(\"xpath\",\"/html/body\").text\n",
    "    try:\n",
    "        anio_nacimiento = re.compile(r\"\\d{1,2} de \\w+ de (\\d{4})\").findall(allweb)[0]\n",
    "    except:\n",
    "        anio_nacimiento = None\n",
    "\n",
    "    # Click en la biografía\n",
    "    driver.find_element('class name',\"ipc-html-content-inner-div\").click()\n",
    "    sleep(random.uniform(0.8, 1.6))\n",
    "\n",
    "    # Obtener enlaces de películas conocidas\n",
    "    bio = driver.find_element('xpath', '//*[@id=\"__next\"]/main/div/section/div/section/div/div[1]/section[2]/div[2]')\n",
    "    try:\n",
    "        enlaces = [x.text for x in bio.find_elements(\"class name\", \"ipc-md-link\")]\n",
    "        re_pelicula_anio = r\"([\\w|\\s]+)\\s\\(\\d{4}\\)\"\n",
    "        conocido_por = [re.match(re_pelicula_anio, enlace).group(0) for enlace in enlaces if\n",
    "                        re.match(re_pelicula_anio, enlace)]\n",
    "    except:\n",
    "        conocido_por = None\n",
    "\n",
    "    try:\n",
    "        # Click en la sección de premios\n",
    "        driver.find_element('xpath',\n",
    "            '//*[@id=\"__next\"]/main/div/section/section/div[3]/section/section/div[1]/div/div/div[2]/ul/li[2]/a').click()\n",
    "        sleep(random.uniform(1.1, 2.1))\n",
    "    \n",
    "        # Obtener premios ganados\n",
    "        premios = driver.find_elements('tag name',\"section\")[6:]\n",
    "        lista_premios = [premio.text.split(\"\\n\")[0] for premio in premios if \"Ganador\" in premio.text] \n",
    "    except:\n",
    "        lista_premios = None\n",
    "\n",
    "    # Guardar información en la lista de resultados\n",
    "    return (actor, anio_nacimiento, que_hace, conocido_por, lista_premios)"
   ]
  },
  {
   "cell_type": "code",
   "execution_count": null,
   "metadata": {},
   "outputs": [],
   "source": [
    "!dir"
   ]
  },
  {
   "cell_type": "code",
   "execution_count": 12,
   "metadata": {
    "collapsed": false
   },
   "outputs": [],
   "source": [
    "# Uso de la función\n",
    "ficheros =[\"pelis_concat\\\\actores_accion_unido.csv\"]\n",
    "columna = \"actores\" \n",
    "fichero_donde_guardar = \"informacion_actores.csv\"\n",
    "\n",
    "# lista_actores = obtener_lista_actores_unicos(ficheros, columna)"
   ]
  },
  {
   "cell_type": "code",
   "execution_count": 13,
   "metadata": {},
   "outputs": [
    {
     "name": "stderr",
     "output_type": "stream",
     "text": [
      "  2%|▏         | 72/4422 [16:27<14:48:45, 12.26s/it]"
     ]
    },
    {
     "name": "stdout",
     "output_type": "stream",
     "text": [
      "Descansando un poco\n"
     ]
    },
    {
     "name": "stderr",
     "output_type": "stream",
     "text": [
      "  5%|▍         | 200/4422 [46:44<17:12:51, 14.68s/it]"
     ]
    },
    {
     "name": "stdout",
     "output_type": "stream",
     "text": [
      "Guardando copia parcial de actores en informacion_actores.csv. Van 201 actores.\n"
     ]
    },
    {
     "name": "stderr",
     "output_type": "stream",
     "text": [
      "  5%|▍         | 212/4422 [49:27<14:49:09, 12.67s/it]"
     ]
    },
    {
     "name": "stdout",
     "output_type": "stream",
     "text": [
      "Descansando un poco\n"
     ]
    },
    {
     "name": "stderr",
     "output_type": "stream",
     "text": [
      "  7%|▋         | 308/4422 [1:12:52<17:04:50, 14.95s/it]"
     ]
    },
    {
     "name": "stdout",
     "output_type": "stream",
     "text": [
      "Descansando un poco\n"
     ]
    },
    {
     "name": "stderr",
     "output_type": "stream",
     "text": [
      "  9%|▉         | 400/4422 [1:33:15<16:50:51, 15.08s/it]"
     ]
    },
    {
     "name": "stdout",
     "output_type": "stream",
     "text": [
      "Guardando copia parcial de actores en informacion_actores.csv. Van 401 actores.\n"
     ]
    },
    {
     "name": "stderr",
     "output_type": "stream",
     "text": [
      " 10%|█         | 463/4422 [1:46:34<11:37:40, 10.57s/it]"
     ]
    },
    {
     "name": "stdout",
     "output_type": "stream",
     "text": [
      "Descansando un poco\n"
     ]
    },
    {
     "name": "stderr",
     "output_type": "stream",
     "text": [
      " 14%|█▎        | 600/4422 [2:16:17<13:14:24, 12.47s/it]"
     ]
    },
    {
     "name": "stdout",
     "output_type": "stream",
     "text": [
      "Guardando copia parcial de actores en informacion_actores.csv. Van 601 actores.\n"
     ]
    },
    {
     "name": "stderr",
     "output_type": "stream",
     "text": [
      " 14%|█▎        | 605/4422 [2:17:14<12:54:48, 12.18s/it]"
     ]
    },
    {
     "name": "stdout",
     "output_type": "stream",
     "text": [
      "Descansando un poco\n"
     ]
    },
    {
     "name": "stderr",
     "output_type": "stream",
     "text": [
      " 16%|█▌        | 700/4422 [2:39:23<11:56:54, 11.56s/it]"
     ]
    },
    {
     "name": "stdout",
     "output_type": "stream",
     "text": [
      "Descansando un poco\n"
     ]
    },
    {
     "name": "stderr",
     "output_type": "stream",
     "text": [
      " 17%|█▋        | 764/4422 [2:55:28<14:33:47, 14.33s/it]"
     ]
    },
    {
     "name": "stdout",
     "output_type": "stream",
     "text": [
      "Descansando un poco\n"
     ]
    },
    {
     "name": "stderr",
     "output_type": "stream",
     "text": [
      " 18%|█▊        | 800/4422 [3:02:47<11:15:23, 11.19s/it]"
     ]
    },
    {
     "name": "stdout",
     "output_type": "stream",
     "text": [
      "Guardando copia parcial de actores en informacion_actores.csv. Van 801 actores.\n"
     ]
    },
    {
     "name": "stderr",
     "output_type": "stream",
     "text": [
      " 21%|██        | 915/4422 [3:29:39<12:56:06, 13.28s/it]"
     ]
    },
    {
     "name": "stdout",
     "output_type": "stream",
     "text": [
      "Descansando un poco\n"
     ]
    },
    {
     "name": "stderr",
     "output_type": "stream",
     "text": [
      " 22%|██▏       | 975/4422 [3:48:33<24:42:46, 25.81s/it]"
     ]
    },
    {
     "name": "stdout",
     "output_type": "stream",
     "text": [
      "Descansando un poco\n"
     ]
    },
    {
     "name": "stderr",
     "output_type": "stream",
     "text": [
      " 23%|██▎       | 1000/4422 [3:57:26<13:08:23, 13.82s/it]"
     ]
    },
    {
     "name": "stdout",
     "output_type": "stream",
     "text": [
      "Guardando copia parcial de actores en informacion_actores.csv. Van 1001 actores.\n"
     ]
    },
    {
     "name": "stderr",
     "output_type": "stream",
     "text": [
      " 26%|██▌       | 1160/4422 [4:32:31<10:40:12, 11.78s/it]"
     ]
    },
    {
     "name": "stdout",
     "output_type": "stream",
     "text": [
      "Descansando un poco\n"
     ]
    },
    {
     "name": "stderr",
     "output_type": "stream",
     "text": [
      " 27%|██▋       | 1200/4422 [4:41:57<11:20:23, 12.67s/it]"
     ]
    },
    {
     "name": "stdout",
     "output_type": "stream",
     "text": [
      "Guardando copia parcial de actores en informacion_actores.csv. Van 1201 actores.\n"
     ]
    },
    {
     "name": "stderr",
     "output_type": "stream",
     "text": [
      " 30%|███       | 1341/4422 [5:14:43<12:32:33, 14.66s/it]"
     ]
    },
    {
     "name": "stdout",
     "output_type": "stream",
     "text": [
      "Descansando un poco\n"
     ]
    },
    {
     "name": "stderr",
     "output_type": "stream",
     "text": [
      " 32%|███▏      | 1400/4422 [5:28:31<9:11:54, 10.96s/it] "
     ]
    },
    {
     "name": "stdout",
     "output_type": "stream",
     "text": [
      "Guardando copia parcial de actores en informacion_actores.csv. Van 1401 actores.\n"
     ]
    },
    {
     "name": "stderr",
     "output_type": "stream",
     "text": [
      " 32%|███▏      | 1404/4422 [5:29:18<9:15:52, 11.05s/it] "
     ]
    },
    {
     "name": "stdout",
     "output_type": "stream",
     "text": [
      "Descansando un poco\n"
     ]
    },
    {
     "name": "stderr",
     "output_type": "stream",
     "text": [
      " 36%|███▌      | 1600/4422 [6:17:03<10:15:18, 13.08s/it]"
     ]
    },
    {
     "name": "stdout",
     "output_type": "stream",
     "text": [
      "Guardando copia parcial de actores en informacion_actores.csv. Van 1601 actores.\n"
     ]
    },
    {
     "name": "stderr",
     "output_type": "stream",
     "text": [
      " 36%|███▌      | 1602/4422 [6:17:32<10:59:34, 14.03s/it]"
     ]
    },
    {
     "name": "stdout",
     "output_type": "stream",
     "text": [
      "Descansando un poco\n"
     ]
    },
    {
     "name": "stderr",
     "output_type": "stream",
     "text": [
      " 38%|███▊      | 1678/4422 [6:35:04<8:00:35, 10.51s/it] "
     ]
    },
    {
     "name": "stdout",
     "output_type": "stream",
     "text": [
      "Descansando un poco\n"
     ]
    },
    {
     "name": "stderr",
     "output_type": "stream",
     "text": [
      " 41%|████      | 1800/4422 [7:05:40<18:25:13, 25.29s/it]"
     ]
    },
    {
     "name": "stdout",
     "output_type": "stream",
     "text": [
      "Guardando copia parcial de actores en informacion_actores.csv. Van 1801 actores.\n"
     ]
    },
    {
     "name": "stderr",
     "output_type": "stream",
     "text": [
      " 42%|████▏     | 1848/4422 [7:18:20<13:49:31, 19.34s/it]"
     ]
    },
    {
     "name": "stdout",
     "output_type": "stream",
     "text": [
      "Descansando un poco\n"
     ]
    },
    {
     "name": "stderr",
     "output_type": "stream",
     "text": [
      " 44%|████▍     | 1941/4422 [7:40:36<8:38:25, 12.54s/it] "
     ]
    },
    {
     "name": "stdout",
     "output_type": "stream",
     "text": [
      "Descansando un poco\n"
     ]
    },
    {
     "name": "stderr",
     "output_type": "stream",
     "text": [
      " 45%|████▌     | 2000/4422 [7:56:40<9:46:25, 14.53s/it] "
     ]
    },
    {
     "name": "stdout",
     "output_type": "stream",
     "text": [
      "Guardando copia parcial de actores en informacion_actores.csv. Van 2001 actores.\n"
     ]
    },
    {
     "name": "stderr",
     "output_type": "stream",
     "text": [
      " 47%|████▋     | 2066/4422 [8:11:49<7:14:09, 11.06s/it] "
     ]
    },
    {
     "name": "stdout",
     "output_type": "stream",
     "text": [
      "Descansando un poco\n"
     ]
    },
    {
     "name": "stderr",
     "output_type": "stream",
     "text": [
      " 50%|████▉     | 2200/4422 [8:42:20<8:00:47, 12.98s/it] "
     ]
    },
    {
     "name": "stdout",
     "output_type": "stream",
     "text": [
      "Guardando copia parcial de actores en informacion_actores.csv. Van 2201 actores.\n"
     ]
    },
    {
     "name": "stderr",
     "output_type": "stream",
     "text": [
      " 50%|█████     | 2227/4422 [8:48:32<7:28:50, 12.27s/it] "
     ]
    },
    {
     "name": "stdout",
     "output_type": "stream",
     "text": [
      "Descansando un poco\n"
     ]
    },
    {
     "name": "stderr",
     "output_type": "stream",
     "text": [
      " 53%|█████▎    | 2359/4422 [9:24:35<8:39:37, 15.11s/it] "
     ]
    },
    {
     "name": "stdout",
     "output_type": "stream",
     "text": [
      "Descansando un poco\n"
     ]
    },
    {
     "name": "stderr",
     "output_type": "stream",
     "text": [
      " 54%|█████▍    | 2400/4422 [9:36:20<8:57:36, 15.95s/it] "
     ]
    },
    {
     "name": "stdout",
     "output_type": "stream",
     "text": [
      "Guardando copia parcial de actores en informacion_actores.csv. Van 2401 actores.\n"
     ]
    },
    {
     "name": "stderr",
     "output_type": "stream",
     "text": [
      " 55%|█████▌    | 2442/4422 [9:45:32<6:42:01, 12.18s/it] "
     ]
    },
    {
     "name": "stdout",
     "output_type": "stream",
     "text": [
      "Descansando un poco\n"
     ]
    },
    {
     "name": "stderr",
     "output_type": "stream",
     "text": [
      " 59%|█████▉    | 2600/4422 [10:22:24<7:44:58, 15.31s/it] "
     ]
    },
    {
     "name": "stdout",
     "output_type": "stream",
     "text": [
      "Guardando copia parcial de actores en informacion_actores.csv. Van 2601 actores.\n"
     ]
    },
    {
     "name": "stderr",
     "output_type": "stream",
     "text": [
      " 60%|█████▉    | 2639/4422 [10:30:59<6:57:03, 14.03s/it]"
     ]
    },
    {
     "name": "stdout",
     "output_type": "stream",
     "text": [
      "Descansando un poco\n"
     ]
    },
    {
     "name": "stderr",
     "output_type": "stream",
     "text": [
      " 63%|██████▎   | 2800/4422 [11:10:25<5:58:10, 13.25s/it] "
     ]
    },
    {
     "name": "stdout",
     "output_type": "stream",
     "text": [
      "Guardando copia parcial de actores en informacion_actores.csv. Van 2801 actores.\n"
     ]
    },
    {
     "name": "stderr",
     "output_type": "stream",
     "text": [
      " 64%|██████▍   | 2828/4422 [11:19:23<9:31:17, 21.50s/it] "
     ]
    },
    {
     "name": "stdout",
     "output_type": "stream",
     "text": [
      "Descansando un poco\n"
     ]
    },
    {
     "name": "stderr",
     "output_type": "stream",
     "text": [
      " 66%|██████▌   | 2899/4422 [11:37:50<6:37:37, 15.66s/it] "
     ]
    },
    {
     "name": "stdout",
     "output_type": "stream",
     "text": [
      "Descansando un poco\n"
     ]
    },
    {
     "name": "stderr",
     "output_type": "stream",
     "text": [
      " 67%|██████▋   | 2952/4422 [11:49:42<4:34:56, 11.22s/it] "
     ]
    },
    {
     "name": "stdout",
     "output_type": "stream",
     "text": [
      "Descansando un poco\n"
     ]
    },
    {
     "name": "stderr",
     "output_type": "stream",
     "text": [
      " 68%|██████▊   | 3000/4422 [12:00:27<5:38:18, 14.27s/it]"
     ]
    },
    {
     "name": "stdout",
     "output_type": "stream",
     "text": [
      "Guardando copia parcial de actores en informacion_actores.csv. Van 3001 actores.\n"
     ]
    },
    {
     "name": "stderr",
     "output_type": "stream",
     "text": [
      " 70%|██████▉   | 3082/4422 [12:19:55<4:32:57, 12.22s/it] "
     ]
    },
    {
     "name": "stdout",
     "output_type": "stream",
     "text": [
      "Descansando un poco\n"
     ]
    },
    {
     "name": "stderr",
     "output_type": "stream",
     "text": [
      " 72%|███████▏  | 3200/4422 [12:47:34<4:10:17, 12.29s/it] "
     ]
    },
    {
     "name": "stdout",
     "output_type": "stream",
     "text": [
      "Guardando copia parcial de actores en informacion_actores.csv. Van 3201 actores.\n"
     ]
    },
    {
     "name": "stderr",
     "output_type": "stream",
     "text": [
      " 73%|███████▎  | 3218/4422 [12:52:01<4:01:17, 12.02s/it]"
     ]
    },
    {
     "name": "stdout",
     "output_type": "stream",
     "text": [
      "Descansando un poco\n"
     ]
    },
    {
     "name": "stderr",
     "output_type": "stream",
     "text": [
      " 74%|███████▍  | 3290/4422 [13:09:14<3:56:13, 12.52s/it]"
     ]
    },
    {
     "name": "stdout",
     "output_type": "stream",
     "text": [
      "Descansando un poco\n"
     ]
    },
    {
     "name": "stderr",
     "output_type": "stream",
     "text": [
      " 76%|███████▌  | 3345/4422 [13:23:08<3:22:22, 11.27s/it]"
     ]
    },
    {
     "name": "stdout",
     "output_type": "stream",
     "text": [
      "Descansando un poco\n"
     ]
    },
    {
     "name": "stderr",
     "output_type": "stream",
     "text": [
      " 77%|███████▋  | 3400/4422 [13:37:02<3:44:47, 13.20s/it]"
     ]
    },
    {
     "name": "stdout",
     "output_type": "stream",
     "text": [
      "Guardando copia parcial de actores en informacion_actores.csv. Van 3401 actores.\n"
     ]
    },
    {
     "name": "stderr",
     "output_type": "stream",
     "text": [
      " 77%|███████▋  | 3409/4422 [13:39:53<6:49:33, 24.26s/it]"
     ]
    },
    {
     "name": "stdout",
     "output_type": "stream",
     "text": [
      "Descansando un poco\n"
     ]
    },
    {
     "name": "stderr",
     "output_type": "stream",
     "text": [
      " 79%|███████▉  | 3493/4422 [13:40:22<3:38:11, 14.09s/it]\n"
     ]
    },
    {
     "ename": "KeyboardInterrupt",
     "evalue": "",
     "output_type": "error",
     "traceback": [
      "\u001b[1;31m---------------------------------------------------------------------------\u001b[0m",
      "\u001b[1;31mKeyboardInterrupt\u001b[0m                         Traceback (most recent call last)",
      "Cell \u001b[1;32mIn[13], line 5\u001b[0m\n\u001b[0;32m      3\u001b[0m lista_actores \u001b[38;5;241m=\u001b[39m random\u001b[38;5;241m.\u001b[39mchoices(lista_actores, k\u001b[38;5;241m=\u001b[39mrandom\u001b[38;5;241m.\u001b[39mrandint(\u001b[38;5;241m2500\u001b[39m,\u001b[38;5;241m5000\u001b[39m))\n\u001b[0;32m      4\u001b[0m \u001b[38;5;66;03m# datos_actores contiene los datos de los actores, aunque ya deberían haber sido guardados en el fichero_donde_guardar\u001b[39;00m\n\u001b[1;32m----> 5\u001b[0m datos_actores \u001b[38;5;241m=\u001b[39m \u001b[43mobtener_informacion_actores\u001b[49m\u001b[43m(\u001b[49m\u001b[43mlista_actores\u001b[49m\u001b[43m,\u001b[49m\u001b[43m \u001b[49m\u001b[43mfichero_donde_guardar\u001b[49m\u001b[43m)\u001b[49m\n",
      "Cell \u001b[1;32mIn[7], line 26\u001b[0m, in \u001b[0;36mobtener_informacion_actores\u001b[1;34m(lista_actores, guardar_en_csv)\u001b[0m\n\u001b[0;32m     24\u001b[0m     \u001b[38;5;28mprint\u001b[39m(\u001b[38;5;124m\"\u001b[39m\u001b[38;5;124mDescansando un poco\u001b[39m\u001b[38;5;124m\"\u001b[39m)\n\u001b[0;32m     25\u001b[0m     proximo_descanso \u001b[38;5;241m=\u001b[39m indice \u001b[38;5;241m+\u001b[39m random\u001b[38;5;241m.\u001b[39mrandint(\u001b[38;5;241m50\u001b[39m,\u001b[38;5;241m200\u001b[39m)\n\u001b[1;32m---> 26\u001b[0m     sleep(random\u001b[38;5;241m.\u001b[39muniform(\u001b[38;5;241m10\u001b[39m,\u001b[38;5;241m30\u001b[39m))\n\u001b[0;32m     27\u001b[0m \u001b[38;5;28;01mtry\u001b[39;00m:\n\u001b[0;32m     28\u001b[0m     \u001b[38;5;66;03m#obtener información del actor de la funcion obtener_informacion_actor \u001b[39;00m\n\u001b[0;32m     29\u001b[0m     info_actor \u001b[38;5;241m=\u001b[39m obtener_informacion_actor(driver, actor)\n",
      "\u001b[1;31mKeyboardInterrupt\u001b[0m: "
     ]
    }
   ],
   "source": [
    "df_actores = pd.read_csv(\"pelis_concat\\\\actores_accion_unido.csv\")\n",
    "lista_actores = df_actores[\"actores\"].to_list()\n",
    "lista_actores = random.choices(lista_actores, k=random.randint(2500,5000))\n",
    "# datos_actores contiene los datos de los actores, aunque ya deberían haber sido guardados en el fichero_donde_guardar\n",
    "datos_actores = obtener_informacion_actores(lista_actores, fichero_donde_guardar)"
   ]
  },
  {
   "cell_type": "code",
   "execution_count": null,
   "metadata": {
    "ExecuteTime": {
     "end_time": "2024-03-03T20:40:24.898283Z",
     "start_time": "2024-03-03T20:40:24.895410Z"
    },
    "collapsed": false
   },
   "outputs": [],
   "source": [
    "#libreria que sirve para coger todos los archivos de la dirección facilitada de manera automática \n",
    "import glob\n",
    "\n",
    "base_dir = \"../../../proyecto_2/Adalab-proyecto-da-promo-G-modulo-2-team-1\"\n",
    "# !ls {base_dir}\n",
    "#Encuentra todos los ficheros que cumplen el siguiente patron\n",
    "lista_ficheros = glob.glob(f'{base_dir}/**/actores*.csv')\n",
    "columna = \"0\"  # o \" actores\"\n",
    "fichero_donde_guardar = \"informacion_actores.csv\""
   ]
  },
  {
   "cell_type": "code",
   "execution_count": null,
   "metadata": {
    "ExecuteTime": {
     "end_time": "2024-03-03T20:40:26.590057Z",
     "start_time": "2024-03-03T20:40:26.555526Z"
    },
    "collapsed": false
   },
   "outputs": [],
   "source": [
    "lista_actores = obtener_lista_actores_unicos(lista_ficheros, columna)\n",
    "print(len(lista_actores))\n",
    "lista_actores"
   ]
  },
  {
   "cell_type": "code",
   "execution_count": null,
   "metadata": {
    "ExecuteTime": {
     "end_time": "2024-03-03T21:42:20.458249Z",
     "start_time": "2024-03-03T20:54:02.629083Z"
    },
    "collapsed": false
   },
   "outputs": [],
   "source": [
    "datos_actores = obtener_informacion_actores(lista_actores[:200], fichero_donde_guardar)"
   ]
  },
  {
   "cell_type": "code",
   "execution_count": null,
   "metadata": {
    "ExecuteTime": {
     "end_time": "2024-03-03T20:43:17.258642Z",
     "start_time": "2024-03-03T20:43:17.256796Z"
    },
    "collapsed": false
   },
   "outputs": [],
   "source": [
    "len(datos_actores)"
   ]
  }
 ],
 "metadata": {
  "kernelspec": {
   "display_name": "Python 3",
   "language": "python",
   "name": "python3"
  },
  "language_info": {
   "codemirror_mode": {
    "name": "ipython",
    "version": 3
   },
   "file_extension": ".py",
   "mimetype": "text/x-python",
   "name": "python",
   "nbconvert_exporter": "python",
   "pygments_lexer": "ipython3",
   "version": "3.11.8"
  }
 },
 "nbformat": 4,
 "nbformat_minor": 2
}
