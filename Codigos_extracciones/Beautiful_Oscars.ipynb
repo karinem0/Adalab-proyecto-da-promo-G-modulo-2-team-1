{
 "cells": [
  {
   "cell_type": "code",
   "execution_count": 1,
   "metadata": {},
   "outputs": [],
   "source": [
    "# antes de empezar importamos las librerías que vamos a usar.\n",
    "import requests\n",
    "from bs4 import BeautifulSoup\n",
    "import pandas as pd\n",
    "import re"
   ]
  },
  {
   "cell_type": "code",
   "execution_count": 2,
   "metadata": {},
   "outputs": [],
   "source": [
    "url_oscars='https://es.wikipedia.org/wiki/Premios_%C3%93scar'"
   ]
  },
  {
   "cell_type": "code",
   "execution_count": 3,
   "metadata": {},
   "outputs": [],
   "source": [
    "def premios_oscar(url):\n",
    "    \n",
    "    url_oscars ='https://es.wikipedia.org/wiki/Premios_%C3%93scar'\n",
    "    res_oscars = requests.get(url_oscars)\n",
    "    res_oscars.status_code\n",
    "\n",
    "\n",
    "    lista_oscars = []\n",
    "    sopa_oscars = BeautifulSoup(res_oscars.content, 'html.parser')\n",
    "\n",
    "    # Encontrar todas las tablas que hay en la página y seleccionar la nuestra\n",
    "    tablas_oscars = sopa_oscars.find_all('table')\n",
    "    tabla_oscars = tablas_oscars[2]\n",
    "\n",
    "    # Ver las filas de la tabla\n",
    "    todas_las_filas = tabla_oscars.find_all('tr')\n",
    "\n",
    "    # Seleccionar las filas a partir de la 72(año 2000)\n",
    "    filas_oscars = todas_las_filas[72:]\n",
    "\n",
    "    \n",
    "    for fila in filas_oscars:\n",
    "\n",
    "        texto_fila_oscars = fila.text\n",
    "\n",
    "        # Dividir el texto en una lista usando el salto de línea como separador\n",
    "        lista_texto_fila_oscars = texto_fila_oscars.split('\\n')\n",
    "        columna = lista_texto_fila_oscars[1::2]\n",
    "        \n",
    "\n",
    "        # Aplicar regex a cada columna para quedarnos únicamente con el nombre del actor/actriz\n",
    "        columna[3] = re.sub(r'\\([^)]*\\)', '', columna[3]).strip()\n",
    "        columna[4] = re.sub(r'\\([^)]*\\)', '', columna[4]).strip()\n",
    "        columna[5] = re.sub(r'\\([^)]*\\)', '', columna[5]).strip()\n",
    "\n",
    "        datos_texto_fila_oscars = columna[1:6]\n",
    "\n",
    "        # Usar regex para  quedarnos únicamente con el año\n",
    "        regex_fecha = datos_texto_fila_oscars[0]\n",
    "        regex_datos_oscar = re.findall('\\d{4}', regex_fecha)\n",
    "        datos_texto_fila_oscars[0] = regex_datos_oscar[0]\n",
    "        \n",
    "       \n",
    "        # Convertir los datos a una tupla\n",
    "        fila_tupla_oscars = tuple(datos_texto_fila_oscars)\n",
    "\n",
    "        # Añadir la tupla a la lista de Premios Oscar\n",
    "        lista_oscars.append(fila_tupla_oscars)\n",
    "    return lista_oscars"
   ]
  },
  {
   "cell_type": "code",
   "execution_count": 4,
   "metadata": {},
   "outputs": [],
   "source": [
    "oscars = premios_oscar(url_oscars)"
   ]
  },
  {
   "cell_type": "code",
   "execution_count": 5,
   "metadata": {},
   "outputs": [
    {
     "name": "stdout",
     "output_type": "stream",
     "text": [
      "[('2000', ' American Beauty', 'S. Mendes', 'K. Spacey', 'H. Swank'), ('2001', ' Gladiator', 'S. Soderbergh', 'R. Crowe', 'J. Roberts'), ('2002', ' A Beautiful Mind', 'R. Howard', 'D. Washington', 'H. Berry'), ('2003', ' Chicago', 'R. Polanski', 'A. Brody', 'N. Kidman'), ('2004', ' The Lord of the Rings: The Return of the King', 'P. Jackson', 'S. Penn', 'C. Theron'), ('2005', ' Million Dollar Baby', 'C. Eastwood', 'J. Foxx', 'H. Swank'), ('2006', ' Crash', 'A. Lee', 'P. S. Hoffman', 'R. Witherspoon'), ('2007', ' The Departed', 'M. Scorsese', 'F. Whitaker', 'H. Mirren'), ('2008', ' No Country for Old Men', 'J. Coen E. Coen', 'D. Day-Lewis', 'M. Cotillard'), ('2009', '  Slumdog Millionaire', 'D. Boyle', 'S. Penn', 'K. Winslet'), ('2010', ' The Hurt Locker', 'K. Bigelow', 'J. Bridges', 'S. Bullock'), ('2011', \" The King's Speech\", 'T. Hooper', 'C. Firth', 'N. Portman'), ('2012', ' The Artist', 'M. Hazanavicius', 'J. Dujardin', 'M. Streep'), ('2013', ' Argo', 'A. Lee', 'D. Day-Lewis', 'J. Lawrence'), ('2014', '  12 Years a Slave', 'A. Cuarón', 'M. McConaughey', 'C. Blanchett'), ('2015', ' Birdman or (The Unexpected Virtue of Ignorance)', 'A. G. Iñárritu)', 'E. Redmayne', 'J.Moore'), ('2016', ' Spotlight', 'A. G. Iñárritu', 'L. DiCaprio', 'B. Larson'), ('2017', ' Moonlight', 'D. Chazelle', 'C. Affleck', 'E. Stone'), ('2018', ' The Shape of Water', 'G. del Toro', 'G. Oldman', 'F. McDormand'), ('2019', ' Green Book', 'A. Cuarón', 'R. Malek', 'O. Colman'), ('2020', ' Parasite', 'Bong J.', 'J. Phoenix', 'R. Zellweger'), ('2021', ' Nomadland', 'C. Zhao', 'A. Hopkins', 'F. McDormand'), ('2022', '  CODA', 'J. Campion', 'W. Smith', 'J. Chastain'), ('2023', ' Everything Everywhere All at Once', 'D. Kwan D. Scheinert', 'B. Fraser', 'M. Yeoh')]\n"
     ]
    }
   ],
   "source": [
    "print(oscars)"
   ]
  }
 ],
 "metadata": {
  "kernelspec": {
   "display_name": "base",
   "language": "python",
   "name": "python3"
  },
  "language_info": {
   "codemirror_mode": {
    "name": "ipython",
    "version": 3
   },
   "file_extension": ".py",
   "mimetype": "text/x-python",
   "name": "python",
   "nbconvert_exporter": "python",
   "pygments_lexer": "ipython3",
   "version": "3.9.12"
  }
 },
 "nbformat": 4,
 "nbformat_minor": 2
}
