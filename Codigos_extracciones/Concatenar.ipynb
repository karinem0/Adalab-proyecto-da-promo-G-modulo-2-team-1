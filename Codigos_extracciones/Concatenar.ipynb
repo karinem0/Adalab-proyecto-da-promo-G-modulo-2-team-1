{
 "cells": [
  {
   "cell_type": "code",
   "execution_count": 1,
   "metadata": {},
   "outputs": [
    {
     "name": "stderr",
     "output_type": "stream",
     "text": [
      "C:\\Users\\karin\\AppData\\Local\\Temp\\ipykernel_13240\\3984325375.py:1: DeprecationWarning: \n",
      "Pyarrow will become a required dependency of pandas in the next major release of pandas (pandas 3.0),\n",
      "(to allow more performant data types, such as the Arrow string type, and better interoperability with other libraries)\n",
      "but was not found to be installed on your system.\n",
      "If this would cause problems for you,\n",
      "please provide us feedback at https://github.com/pandas-dev/pandas/issues/54466\n",
      "        \n",
      "  import pandas as pd\n"
     ]
    }
   ],
   "source": [
    "import pandas as pd\n",
    "import os\n"
   ]
  },
  {
   "cell_type": "code",
   "execution_count": 4,
   "metadata": {},
   "outputs": [],
   "source": [
    "# Directorio donde se encuentran los archivos CSV que deseas concatenar. \n",
    "# Abrir en CSV carpeta donde se encuentre los archivos CSV a concatenar. \n",
    "# En mi caso de ejemplo en la carpeta (pelis) es donde tengo CVS almacenados en subcarpertas (comedia, drama, accion) los correspondeintes a comedia  \n",
    "directorio = 'pelis/comedia'\n",
    "\n",
    "# Lista para almacenar los DataFrames de los archivos CSV\n",
    "dataframes = []\n",
    "\n",
    "# Iterar sobre los archivos en el directorio\n",
    "for archivo in os.listdir(directorio):\n",
    "    if archivo.endswith('.csv'):\n",
    "        # Leer cada archivo CSV y convertirlo en DataFrame\n",
    "        df_accion = pd.read_csv(os.path.join(directorio, archivo))\n",
    "        # Agregar el DataFrame a la lista\n",
    "        dataframes.append(df_accion)\n",
    "\n",
    "# Concatenar los DataFrames en uno solo\n",
    "concatenado = pd.concat(dataframes, ignore_index=True)\n",
    "\n",
    "# Guardar el DataFrame concatenado en un nuevo archivo CSV\n",
    "# Insertar nombre que querramos usar para almacenar nuevo csv concatenado\n",
    "concatenado.to_csv('peliculas_comedia_2015_2019.csv', index=False)\n"
   ]
  }
 ],
 "metadata": {
  "kernelspec": {
   "display_name": "Python 3",
   "language": "python",
   "name": "python3"
  },
  "language_info": {
   "codemirror_mode": {
    "name": "ipython",
    "version": 3
   },
   "file_extension": ".py",
   "mimetype": "text/x-python",
   "name": "python",
   "nbconvert_exporter": "python",
   "pygments_lexer": "ipython3",
   "version": "3.9.13"
  }
 },
 "nbformat": 4,
 "nbformat_minor": 2
}
