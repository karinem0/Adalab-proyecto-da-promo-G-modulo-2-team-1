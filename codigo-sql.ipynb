{
 "cells": [
  {
   "cell_type": "code",
   "execution_count": 1,
   "metadata": {},
   "outputs": [
    {
     "name": "stderr",
     "output_type": "stream",
     "text": [
      "C:\\Users\\karin\\AppData\\Local\\Temp\\ipykernel_8948\\3698147250.py:9: DeprecationWarning: \n",
      "Pyarrow will become a required dependency of pandas in the next major release of pandas (pandas 3.0),\n",
      "(to allow more performant data types, such as the Arrow string type, and better interoperability with other libraries)\n",
      "but was not found to be installed on your system.\n",
      "If this would cause problems for you,\n",
      "please provide us feedback at https://github.com/pandas-dev/pandas/issues/54466\n",
      "        \n",
      "  import pandas as pd\n"
     ]
    }
   ],
   "source": [
    "# Importar librería para la conexión con MySQL\n",
    "# -----------------------------------------------------------------------\n",
    "import mysql.connector\n",
    "from mysql.connector import errorcode\n",
    "\n",
    "\n",
    "# Importar librerías para manipulación y análisis de datos\n",
    "# -----------------------------------------------------------------------\n",
    "import pandas as pd\n",
    "import numpy as np"
   ]
  },
  {
   "cell_type": "code",
   "execution_count": 12,
   "metadata": {},
   "outputs": [],
   "source": [
    "def sacar_tuplas_moviedatabase(archivo):\n",
    "    \"\"\"\n",
    "    Extrae las tuplas de datos de un archivo CSV.\n",
    "\n",
    "    Parameters:\n",
    "    archivo (str): La ruta del archivo CSV.\n",
    "\n",
    "    Returns:\n",
    "    list: Una lista de tuplas que contienen los datos extraídos del archivo CSV.\n",
    "    \"\"\"\n",
    "\n",
    "    # Lee el archivo CSV y carga los datos en un DataFrame\n",
    "    df_detalles = pd.read_csv(archivo)\n",
    "    \n",
    "    # Lista para almacenar las tuplas extraídas\n",
    "    val = []\n",
    "    \n",
    "    # Lista para almacenar las filas duplicadas\n",
    "    duplicadas = []\n",
    "    \n",
    "     # Conjunto para almacenar los IDs de las películas ya vistas\n",
    "    vistas = set()\n",
    "\n",
    "    # Recorre cada fila del DataFrame\n",
    "    for pelicula in df_detalles.values:\n",
    "        \n",
    "        # Convierte la fila en una lista\n",
    "        pelicula = list(pelicula)\n",
    "\n",
    "        # Obtiene el ID de la película\n",
    "        id_pelicula = pelicula[-1]\n",
    "\n",
    "        # Verifica si el ID de la película ya está en el conjunto de películas vistas\n",
    "        if id_pelicula in vistas:\n",
    "            duplicadas.append(pelicula)\n",
    "        else:\n",
    "            # Agrega el ID de la película al conjunto de películas vistas\n",
    "            vistas.add(id_pelicula)\n",
    "            val.append(tuple(pelicula))\n",
    "\n",
    "        # Itera sobre cada elemento de la película\n",
    "        for i, elemento in enumerate(pelicula):\n",
    "            \n",
    "            # Reemplaza los valores NaN con None\n",
    "            if elemento is np.nan:\n",
    "                pelicula[i] = None\n",
    "            \n",
    "                # Intenta convertir los elementos de tipo str a float o int si es posible\n",
    "            \n",
    "                if isinstance(elemento, str) and any(caracter.isdigit() for caracter in elemento):\n",
    "\n",
    "                    try:\n",
    "                        pelicula[i] = int(elemento)\n",
    "                    except ValueError:\n",
    "                            pass\n",
    "                if isinstance(elemento, str) and \".\" in elemento:\n",
    "\n",
    "                    try:\n",
    "                        pelicula[i] = float(elemento)\n",
    "                    except:\n",
    "                        pass\n",
    "                \n",
    "                if isinstance(elemento, str) and any(caracter.isdigit() for caracter in elemento):\n",
    "\n",
    "                    try:\n",
    "                        pelicula[i] = int(elemento)\n",
    "                    except:\n",
    "                        pass\n",
    "                    \n",
    "                if isinstance(elemento, str) and elemento.startswith('-') and elemento.endswith('-'):\n",
    "\n",
    "                    try:\n",
    "                        pelicula[i] = None\n",
    "                    except:\n",
    "                        pass\n",
    "                    \n",
    "        # Verifica si la película ya está en la lista de datos\n",
    "        for dato in val:\n",
    "            if pelicula[-1] in dato:\n",
    "                duplicadas.append(pelicula)\n",
    "            \n",
    "        # Agrega la película a la lista de datos si no está duplicada\n",
    "        if pelicula not in duplicadas:\n",
    "            val.append(tuple(pelicula))\n",
    "    \n",
    "    # Retorna la lista de tuplas\n",
    "    return val"
   ]
  },
  {
   "cell_type": "code",
   "execution_count": 13,
   "metadata": {},
   "outputs": [],
   "source": [
    "archivo = 'BBDD_Importaciones/Peliculas_detalles/detalles_cortos_2015_2019.csv'\n",
    "prueba = sacar_tuplas_moviedatabase(archivo)"
   ]
  },
  {
   "cell_type": "code",
   "execution_count": 14,
   "metadata": {},
   "outputs": [
    {
     "name": "stdout",
     "output_type": "stream",
     "text": [
      "1265 (01000): Data truncated for column 'PuntuacionIMDB' at row 1\n",
      "Error Code: 1265\n",
      "SQLSTATE 01000\n",
      "Message Data truncated for column 'PuntuacionIMDB' at row 1\n"
     ]
    }
   ],
   "source": [
    "# Establece la conexión con la el servidor MySQL y la BBDD\n",
    "\n",
    "cnx = mysql.connector.connect(user='root', password='AlumnaAdalab',\n",
    "                              host='127.0.0.1', database='proyecto_cinemextract')\n",
    "\n",
    "\n",
    "\n",
    "# Inserta los datos usando la llamada a la función en la tabla deseada\n",
    "\n",
    "mycursor = cnx.cursor()\n",
    "query = \"INSERT INTO detalles (PuntuacionRottenTomatoes, PuntuacionIMDB, Direccion, Guion, Argumento, Duracion, Genero, Titulo, IdPelicula) VALUES (%s, %s, %s, %s, %s, %s, %s, %s, %s)\"\n",
    "\n",
    "\n",
    "# Si el archivo de origen contiene índices, llamar a la funcion 'sacar_tuplas_i_moviedatabase'\n",
    "val = sacar_tuplas_moviedatabase(archivo)\n",
    "\n",
    "try: \n",
    "    mycursor.executemany(query, val)\n",
    "    cnx.commit()\n",
    "    print(mycursor.rowcount, \"registro insertado.\")\n",
    "\n",
    "except mysql.connector.Error as err:\n",
    "    print(err)\n",
    "    print(\"Error Code:\", err.errno)\n",
    "    print(\"SQLSTATE\", err.sqlstate)\n",
    "    print(\"Message\", err.msg)"
   ]
  }
 ],
 "metadata": {
  "kernelspec": {
   "display_name": "Python 3",
   "language": "python",
   "name": "python3"
  },
  "language_info": {
   "codemirror_mode": {
    "name": "ipython",
    "version": 3
   },
   "file_extension": ".py",
   "mimetype": "text/x-python",
   "name": "python",
   "nbconvert_exporter": "python",
   "pygments_lexer": "ipython3",
   "version": "3.9.13"
  }
 },
 "nbformat": 4,
 "nbformat_minor": 2
}
