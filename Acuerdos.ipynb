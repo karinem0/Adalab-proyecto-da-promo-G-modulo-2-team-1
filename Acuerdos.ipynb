{
 "cells": [
  {
   "cell_type": "markdown",
   "metadata": {},
   "source": [
    "## Acuerdos Team 1"
   ]
  },
  {
   "cell_type": "markdown",
   "metadata": {},
   "source": [
    "- Respeto mutuo\n",
    "- Participación activa\n",
    "- Empatía\n",
    "- Comunicación abierta\n",
    "- Feedback constructivo\n",
    "- Puntualidad\n",
    "- Reunión de emergencia: sólo en caso de necesidad "
   ]
  }
 ],
 "metadata": {
  "language_info": {
   "name": "python"
  }
 },
 "nbformat": 4,
 "nbformat_minor": 2
}
