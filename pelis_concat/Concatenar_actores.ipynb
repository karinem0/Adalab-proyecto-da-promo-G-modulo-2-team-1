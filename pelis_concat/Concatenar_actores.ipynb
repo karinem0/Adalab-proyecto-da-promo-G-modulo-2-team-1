{
 "cells": [
  {
   "cell_type": "code",
   "execution_count": 1,
   "metadata": {},
   "outputs": [
    {
     "name": "stderr",
     "output_type": "stream",
     "text": [
      "C:\\Users\\laura\\AppData\\Local\\Temp\\ipykernel_23300\\3984325375.py:1: DeprecationWarning: \n",
      "Pyarrow will become a required dependency of pandas in the next major release of pandas (pandas 3.0),\n",
      "(to allow more performant data types, such as the Arrow string type, and better interoperability with other libraries)\n",
      "but was not found to be installed on your system.\n",
      "If this would cause problems for you,\n",
      "please provide us feedback at https://github.com/pandas-dev/pandas/issues/54466\n",
      "        \n",
      "  import pandas as pd\n"
     ]
    }
   ],
   "source": [
    "import pandas as pd\n",
    "import os\n"
   ]
  },
  {
   "cell_type": "code",
   "execution_count": 2,
   "metadata": {},
   "outputs": [],
   "source": [
    "def concatenar_archivos_csv(lista_ficheros, nombre_salida):\n",
    "    \"\"\"\n",
    "    Concatena varios archivos CSV en uno solo.\n",
    "\n",
    "    Parámetros:\n",
    "    lista_ficheros (List[str]): Rutas de los ficheros CSV a concatenar.\n",
    "    nombre_salida (str): Nombre del archivo de salida donde se guardará la concatenación.\n",
    "\n",
    "    Retorna:\n",
    "    None\n",
    "    \"\"\"\n",
    "    # Lista para almacenar los DataFrames de los archivos CSV\n",
    "    dataframes = []\n",
    "\n",
    "    # Iterar sobre todos los archivos en el directorio\n",
    "    for archivo in lista_ficheros:\n",
    "        # Leer cada archivo CSV y convertirlo en DataFrame\n",
    "        df = pd.read_csv(archivo, index_col=0)\n",
    "        # Agregar el DataFrame a la lista\n",
    "        dataframes.append(df)\n",
    "\n",
    "    # Concatenar los DataFrames en uno solo\n",
    "    concatenado = pd.concat(dataframes, ignore_index=True)\n",
    "\n",
    "    # Guardar el DataFrame concatenado en un nuevo archivo CSV\n",
    "    concatenado.to_csv(nombre_salida, index=False)\n",
    "    print(f\"Archivos CSV concatenados y guardados en {nombre_salida}.\")\n"
   ]
  },
  {
   "cell_type": "code",
   "execution_count": 13,
   "metadata": {},
   "outputs": [
    {
     "name": "stdout",
     "output_type": "stream",
     "text": [
      " El volumen de la unidad C no tiene etiqueta.\n",
      " El n�mero de serie del volumen es: D4B1-B521\n",
      "\n",
      " Directorio de c:\\Users\\laura\\Desktop\\Curso Data Analist\\proyecto_2\\Adalab-proyecto-da-promo-G-modulo-2-team-1\\pelis_concat\n",
      "\n",
      "06/03/2024  16:32    <DIR>          .\n",
      "06/03/2024  16:32    <DIR>          ..\n",
      "06/03/2024  17:26            15.577 Concatenar copy.ipynb\n",
      "06/03/2024  13:15             3.978 Concatenar.ipynb\n",
      "06/03/2024  12:13         4.424.190 peliculas_accion.csv\n",
      "06/03/2024  12:13         4.618.121 peliculas_comedia.csv\n",
      "06/03/2024  12:13         5.034.839 peliculas_drama.csv\n",
      "06/03/2024  13:29        14.076.958 peliculas_generos.csv\n",
      "               6 archivos     28.173.663 bytes\n",
      "               2 dirs  1.774.076.870.656 bytes libres\n"
     ]
    }
   ],
   "source": [
    "!dir"
   ]
  },
  {
   "cell_type": "code",
   "execution_count": 3,
   "metadata": {},
   "outputs": [
    {
     "name": "stdout",
     "output_type": "stream",
     "text": [
      "Archivos CSV concatenados y guardados en actores_comedia_unido.csv.\n"
     ]
    }
   ],
   "source": [
    "lista_ficheros = [\"..\\\\Comedia\\\\Actores\\\\actores_pelis_comedia_2000_2004.csv\",\"..\\\\Comedia\\\\Actores\\\\actores_pelis_comedia_2005_2009.csv\", \"..\\\\Comedia\\\\Actores\\\\actores_cortos_comedia_2005_2009.csv\",\"..\\\\Comedia\\\\Actores\\\\actores_pelis_comedia_2010_2014.csv\", \"..\\\\Comedia\\\\Actores\\\\actores_pelis_comedia_2015_2019.csv\", \"..\\\\Comedia\\\\Actores\\\\actores_pelis_comedia_2020_2023.csv\", \"..\\\\Comedia\\\\Actores\\\\actores_cortos_comedia_2020_2023.csv\"]\n",
    "nombre_salida = 'actores_comedia_unido.csv'\n",
    "concatenar_archivos_csv(lista_ficheros, nombre_salida)"
   ]
  },
  {
   "cell_type": "code",
   "execution_count": 9,
   "metadata": {},
   "outputs": [
    {
     "name": "stdout",
     "output_type": "stream",
     "text": [
      "Archivos CSV concatenados y guardados en actores_drama_unido.csv.\n"
     ]
    }
   ],
   "source": [
    "lista_ficheros = [\"..\\\\Drama\\\\Actores\\\\actores_pelis_drama_2000_2004.csv\",\"..\\\\Drama\\\\Actores\\\\actores_cortos_drama_2000_2004.csv\",\"..\\\\Drama\\\\Actores\\\\actores_pelis_drama_2005_2009.csv\",\"..\\\\Drama\\\\Actores\\\\actores_pelis_drama_2010_2014.csv\", \"..\\\\Drama\\\\Actores\\\\actores_cortos_drama_2010_2014.csv\", \"..\\\\Drama\\\\Actores\\\\actores_pelis_drama_2015_2019.csv\", \"..\\\\Drama\\\\Actores\\\\actores_pelis_drama_2020_2023.csv\"]\n",
    "nombre_salida = 'actores_drama_unido.csv'\n",
    "concatenar_archivos_csv(lista_ficheros, nombre_salida)"
   ]
  },
  {
   "cell_type": "code",
   "execution_count": 6,
   "metadata": {},
   "outputs": [
    {
     "name": "stdout",
     "output_type": "stream",
     "text": [
      "Archivos CSV concatenados y guardados en actores_accion_unido.csv.\n"
     ]
    }
   ],
   "source": [
    "lista_ficheros = [\"..\\\\Accion\\\\Actores\\\\actores_pelis_accion_2000_2004.csv\", \"..\\\\Accion\\\\Actores\\\\actores_cortos_accion_2000_2004.csv\", \"..\\\\Accion\\\\Actores\\\\actores_pelis_accion_2005_2009.csv\",\"..\\\\Accion\\\\Actores\\\\actores_pelis_accion_2010_2014.csv\", \"..\\\\Accion\\\\Actores\\\\actores_pelis_accion_2015_2019.csv\", \"..\\\\Accion\\\\Actores\\\\actores_cortos_accion_2015_2019.csv\", \"..\\\\Accion\\\\Actores\\\\actores_pelis_accion_2020_2023.csv\"]\n",
    "nombre_salida = 'actores_accion_unido.csv'\n",
    "concatenar_archivos_csv(lista_ficheros, nombre_salida)"
   ]
  }
 ],
 "metadata": {
  "kernelspec": {
   "display_name": "Python 3",
   "language": "python",
   "name": "python3"
  },
  "language_info": {
   "codemirror_mode": {
    "name": "ipython",
    "version": 3
   },
   "file_extension": ".py",
   "mimetype": "text/x-python",
   "name": "python",
   "nbconvert_exporter": "python",
   "pygments_lexer": "ipython3",
   "version": "3.11.8"
  }
 },
 "nbformat": 4,
 "nbformat_minor": 2
}
