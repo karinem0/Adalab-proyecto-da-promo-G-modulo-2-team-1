{
 "cells": [
  {
   "cell_type": "code",
   "execution_count": 2,
   "metadata": {},
   "outputs": [],
   "source": [
    "import pandas as pd\n",
    "import requests"
   ]
  },
  {
   "cell_type": "code",
   "execution_count": 20,
   "metadata": {},
   "outputs": [],
   "source": [
    "def extraer_datos_por_genero_y_anio(anio_inicial, anio_final, genero , key):\n",
    "    pelis = {}\n",
    "    anio_distinto = False\n",
    "\n",
    "    print(f\"--- Extrayendo datos ---\")\n",
    "    print(\" \")\n",
    "\n",
    "    for anio in range(anio_inicial, anio_final+1): \n",
    "\n",
    "        print(f\"Iterando por el año {anio}:\")\n",
    "        \n",
    "        for pag in range(1, 51): # Itera por un rango determinado de páginas, ya que por cada página sólo se puede obtener un máximo de 50 entradas\n",
    "            if anio_distinto: # Condición para que detenga el bucle si el año de lanzamiento es distinto al solicitado (variable = True)\n",
    "                break\n",
    "\n",
    "            url = \"https://moviesdatabase.p.rapidapi.com/titles\"\n",
    "            querystring = {\"genre\": genero, \"startYear\": anio, \"endYear\": anio+1, \"sort\" : \"year.incr\" , \"page\": pag} # Parámetros de la URL\n",
    "            headers = {\"X-RapidAPI-Key\": key, \"X-RapidAPI-Host\": \"moviesdatabase.p.rapidapi.com\"}\n",
    "            response = requests.get(url, headers=headers, params=querystring)\n",
    "            response = response.json()\n",
    "\n",
    "            try: # Intenta acceder al diccionario\n",
    "                response['results']\n",
    "\n",
    "            except: # Si no puede acceder significa que la url ha devuelto otra cosa y que, probablemente, se haya llegado al máximo de solicituds permitidas por hora\n",
    "                print(f\"Se ha llegado al límite de solicitudes. Deteniendo la iteración\")\n",
    "                break # Si se ha llegado al límite de solicitudes, detiene el bucle para que este no dé error\n",
    "\n",
    "            # Revisa si la página que ha devuelto la API coincide con la página solicitada (se ha detectado que en el caso de no encontrar una página, la API devuelve la 1 por defecto y eso provocaba repeticiones de datos). \n",
    "            if response.get('page') != str(pag):\n",
    "                print(f\"La página {pag} no existe. Deteniendo la iteración.\")\n",
    "                break # Si los datos no coinciden, detiene el bucle\n",
    "\n",
    "            # Revisa si no encuentra más entradas y en caso afirmativo detiene el bucle\n",
    "            if len(response['results']) == 0:\n",
    "                print(f\"Ya no hay más resultados. Deteniendo la iteración\")\n",
    "                break\n",
    "            \n",
    "            # Itera por cada película/serie/elemento dentro de la lista de resultados\n",
    "            for pelicula in response['results']:\n",
    "                release_year = pelicula.get('releaseYear') # Asigna el valor de releaseYear a una variable\n",
    "\n",
    "                # Revisa si el valor de releaseYear no es un None (es decir, existe) y si es distinto al año solicitado. En caso de que así sea, detiene el bucle\n",
    "                if release_year is not None and pelicula['releaseYear']['year'] != anio:\n",
    "                    print(f\"Se ha detectado un año diferente a {anio}. Deteniendo la iteración\")\n",
    "                    anio_distinto = True  # Asigna el valor True a la variable anio_distinto para que sirva como parada del primer bucle for\n",
    "                    break\n",
    "\n",
    "            # Añade los resultados encontrados si ninguna de las anteriores condiciones para detener el bucle se ha cumplido y continúa con la búsqueda\n",
    "            pelis[(anio, pag)] = response['results']\n",
    "\n",
    "        print(\" \")\n",
    "\n",
    "    print(f\"--- Extracción de datos finalizada ---\")\n",
    "    \n",
    "    return pelis"
   ]
  },
  {
   "cell_type": "code",
   "execution_count": 26,
   "metadata": {},
   "outputs": [
    {
     "name": "stdout",
     "output_type": "stream",
     "text": [
      "--- Extrayendo datos ---\n",
      " \n",
      "Iterando por el año 2000:\n",
      " \n",
      "Iterando por el año 2001:\n",
      " \n",
      "Iterando por el año 2002:\n",
      " \n",
      "Iterando por el año 2003:\n",
      " \n",
      "Iterando por el año 2004:\n",
      " \n",
      "--- Extracción de datos finalizada ---\n"
     ]
    }
   ],
   "source": [
    "anio_inicial = 2000\n",
    "anio_final = 2004\n",
    "genero = \"Drama\"\n",
    "key = \"22f73ac8d3msh933da10d160edbcp19332ajsndd3d7103a397\" # Cambiar por la key personal\n",
    "\n",
    "datos_drama = extraer_datos_por_genero_y_anio(anio_inicial , anio_final , genero , key)"
   ]
  },
  {
   "cell_type": "code",
   "execution_count": 45,
   "metadata": {},
   "outputs": [
    {
     "name": "stdout",
     "output_type": "stream",
     "text": [
      "--- Extrayendo datos ---\n",
      " \n",
      "Iterando por el año 2000:\n",
      "La página 51 no existe. Deteniendo la iteración.\n",
      " \n",
      "Iterando por el año 2001:\n",
      "La página 51 no existe. Deteniendo la iteración.\n",
      " \n",
      "Iterando por el año 2002:\n",
      "La página 51 no existe. Deteniendo la iteración.\n",
      " \n",
      "Iterando por el año 2003:\n",
      "La página 51 no existe. Deteniendo la iteración.\n",
      " \n",
      "Iterando por el año 2004:\n",
      "La página 51 no existe. Deteniendo la iteración.\n",
      " \n",
      "--- Extracción de datos finalizada ---\n"
     ]
    }
   ],
   "source": [
    "anio_inicial = 2000\n",
    "anio_final = 2004\n",
    "genero = \"Comedy\"\n",
    "key = \"b38cd0a830msh149cd093d780ffcp1fa141jsnc85ccd4fb846\" # Cambiar por la key personal\n",
    "\n",
    "datos_comedia = extraer_datos_por_genero_y_anio(anio_inicial , anio_final , genero , key)"
   ]
  },
  {
   "cell_type": "code",
   "execution_count": 50,
   "metadata": {},
   "outputs": [
    {
     "name": "stdout",
     "output_type": "stream",
     "text": [
      "--- Extrayendo datos ---\n",
      " \n",
      "Iterando por el año 2000:\n",
      "La página 51 no existe. Deteniendo la iteración.\n",
      " \n",
      "Iterando por el año 2001:\n",
      "La página 51 no existe. Deteniendo la iteración.\n",
      " \n",
      "Iterando por el año 2002:\n",
      "La página 51 no existe. Deteniendo la iteración.\n",
      " \n",
      "Iterando por el año 2003:\n",
      "La página 51 no existe. Deteniendo la iteración.\n",
      " \n",
      "Iterando por el año 2004:\n",
      "La página 51 no existe. Deteniendo la iteración.\n",
      " \n",
      "--- Extracción de datos finalizada ---\n"
     ]
    }
   ],
   "source": [
    "anio_inicial = 2000\n",
    "anio_final = 2004\n",
    "genero = \"Action\"\n",
    "key = \"22f73ac8d3msh933da10d160edbcp19332ajsndd3d7103a397\" # Cambiar por la key personal\n",
    "\n",
    "datos_accion = extraer_datos_por_genero_y_anio(anio_inicial , anio_final , genero , key)"
   ]
  },
  {
   "cell_type": "code",
   "execution_count": 27,
   "metadata": {},
   "outputs": [],
   "source": [
    "def limpiar_datos(dict_json):\n",
    "    \n",
    "    peliculas = []\n",
    "    \n",
    "    # Itera por cada clave del diccionario, es decir: Va entrando en 2000, 1 > 2000 , 2 ... \n",
    "    for anio_pagina in dict_json:\n",
    "        \n",
    "        # Itera por cada uno de los valores que hay por página y año\n",
    "        for elemento in dict_json[anio_pagina]:\n",
    "            \n",
    "            # Condición para tener en cuenta sólo las películas (movies) y los cortometrajes (shorts)\n",
    "            if elemento['titleType']['id'] == 'movie' or elemento['titleType']['id'] == 'short': \n",
    "                \n",
    "                if elemento['titleType']['id'] == 'movie':\n",
    "                    \n",
    "                    tipo = 'Pelicula'\n",
    "                    \n",
    "                elif elemento['titleType']['id'] == 'short':\n",
    "                    \n",
    "                    tipo = 'Cortometraje'\n",
    "        \n",
    "                nombre = elemento['titleText']['text'] # Agrega el título de la película o el cortometraje\n",
    "                anio_estreno = elemento['releaseYear']['year'] # Agrega el año de estreno\n",
    "                id_pelicula = elemento['id'] # Agrega el valor de la ID\n",
    "                release_date = elemento.get('releaseDate') # Asigna el valor de releaseDate a una variable \n",
    "                \n",
    "                if release_date is not None: # Revisa que el valor de release_date no sea un None\n",
    "                    mes_estreno = elemento['releaseDate']['month']  # Si no es un None, agrega el mes de estreno\n",
    "                    \n",
    "                else:\n",
    "                    mes_estreno = \"-\" # Si el valor de release_date es un None, agrega \"-\" ya que no tenemos el dato del mes\n",
    "                \n",
    "                pelicula_corto = (tipo , nombre , anio_estreno , mes_estreno , id_pelicula) # Crea una tupla con todos los elementos de la película o el cortometraje\n",
    "                peliculas.append(pelicula_corto) # Añade la tupla a la lista de tuplas\n",
    "    \n",
    "    return peliculas"
   ]
  },
  {
   "cell_type": "code",
   "execution_count": 28,
   "metadata": {},
   "outputs": [],
   "source": [
    "drama2000_2004 = limpiar_datos(datos_drama)"
   ]
  },
  {
   "cell_type": "code",
   "execution_count": 47,
   "metadata": {},
   "outputs": [],
   "source": [
    "comedia2000_2004 = limpiar_datos(datos_comedia)"
   ]
  },
  {
   "cell_type": "code",
   "execution_count": 51,
   "metadata": {},
   "outputs": [],
   "source": [
    "accion2000_2004 = limpiar_datos(datos_accion)"
   ]
  },
  {
   "cell_type": "code",
   "execution_count": 10,
   "metadata": {},
   "outputs": [],
   "source": [
    "def guardar_csv (dict_json):\n",
    "    \n",
    "    df_dict_json = pd.DataFrame(dict_json)\n",
    "    \n",
    "    df_dict_json.to_csv(input(\"Indica el nombre del archivo. Recuerda poner .csv al final\"))"
   ]
  },
  {
   "cell_type": "code",
   "execution_count": 29,
   "metadata": {},
   "outputs": [],
   "source": [
    "guardar_csv(drama2000_2004)"
   ]
  },
  {
   "cell_type": "code",
   "execution_count": 48,
   "metadata": {},
   "outputs": [],
   "source": [
    "guardar_csv(comedia2000_2004)"
   ]
  },
  {
   "cell_type": "code",
   "execution_count": 52,
   "metadata": {},
   "outputs": [],
   "source": [
    "guardar_csv(accion2000_2004)"
   ]
  }
 ],
 "metadata": {
  "kernelspec": {
   "display_name": "base",
   "language": "python",
   "name": "python3"
  },
  "language_info": {
   "codemirror_mode": {
    "name": "ipython",
    "version": 3
   },
   "file_extension": ".py",
   "mimetype": "text/x-python",
   "name": "python",
   "nbconvert_exporter": "python",
   "pygments_lexer": "ipython3",
   "version": "3.9.13"
  }
 },
 "nbformat": 4,
 "nbformat_minor": 2
}
