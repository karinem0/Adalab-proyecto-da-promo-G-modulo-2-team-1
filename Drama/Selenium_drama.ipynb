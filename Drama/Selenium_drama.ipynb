{
 "cells": [
  {
   "cell_type": "markdown",
   "metadata": {},
   "source": [
    "Extracción de datos con Selenium"
   ]
  },
  {
   "cell_type": "code",
   "execution_count": 16,
   "metadata": {},
   "outputs": [],
   "source": [
    "import pandas as pd  \n",
    "import csv\n",
    "\n",
    "from bs4 import BeautifulSoup\n",
    "import requests\n",
    "\n",
    "from selenium import webdriver\n",
    "from webdriver_manager.chrome import ChromeDriverManager  \n",
    "from selenium.webdriver.common.keys import Keys  \n",
    "from selenium.webdriver.support.ui import Select \n",
    "\n",
    "from time import sleep  \n",
    "\n",
    "pd.set_option('display.max_columns', None)  "
   ]
  },
  {
   "cell_type": "code",
   "execution_count": 10,
   "metadata": {},
   "outputs": [],
   "source": [
    "pelis_drama_2000_2004 = pd.read_csv(\"pelis_drama_2000_2004.csv\")"
   ]
  },
  {
   "cell_type": "code",
   "execution_count": 18,
   "metadata": {},
   "outputs": [],
   "source": [
    "nombre_archivo = 'pelis_drama_2000_2004.csv'"
   ]
  },
  {
   "cell_type": "code",
   "execution_count": 20,
   "metadata": {},
   "outputs": [
    {
     "data": {
      "text/plain": [
       "2500"
      ]
     },
     "execution_count": 20,
     "metadata": {},
     "output_type": "execute_result"
    }
   ],
   "source": [
    "pelis_drama_2000_2004.shape[0]"
   ]
  },
  {
   "cell_type": "code",
   "execution_count": 32,
   "metadata": {},
   "outputs": [],
   "source": [
    "pelis_buscar = []\n",
    "\n",
    "ultimo_elemento = pelis_drama_2000_2004.shape[0]\n",
    "\n",
    "for i in range(0, ultimo_elemento):\n",
    "    \n",
    "    peli = pelis_drama_2000_2004.at[i, '1']\n",
    "    anio_peli = pelis_drama_2000_2004.at[i, '2']\n",
    "    pelis_buscar.append((peli , anio_peli))"
   ]
  },
  {
   "cell_type": "code",
   "execution_count": 37,
   "metadata": {},
   "outputs": [
    {
     "data": {
      "text/plain": [
       "'Istota 2000'"
      ]
     },
     "execution_count": 37,
     "metadata": {},
     "output_type": "execute_result"
    }
   ],
   "source": [
    "nombre_peli = f'{pelis_buscar[0][0]} {pelis_buscar[0][1]}'\n",
    "\n",
    "nombre_peli"
   ]
  },
  {
   "cell_type": "code",
   "execution_count": 38,
   "metadata": {},
   "outputs": [],
   "source": [
    "driver = webdriver.Chrome()\n",
    "\n",
    "driver.get(\"https://www.rottentomatoes.com/\")\n",
    "\n",
    "# Ampliar la ventana a tamaño completo\n",
    "driver.maximize_window()\n",
    "\n",
    "sleep(3)\n",
    "\n",
    "# Aceptar los anuncios en la página para continuar navegando\n",
    "try:\n",
    "    driver.find_element(\"xpath\" , \"/html/body/div[5]/div/div[1]/div/div/div/div[2]/div/div/button\").click()\n",
    "    \n",
    "except:\n",
    "    pass\n",
    "\n",
    "# Rechazar cookies\n",
    "try:\n",
    "    driver.find_element(\"css selector\" , \"#onetrust-reject-all-handler\").click()\n",
    "    \n",
    "except:\n",
    "    pass\n",
    "\n",
    "sleep(3)\n",
    "\n",
    "ultimo_rango = len(pelis_buscar)\n",
    "\n",
    "for i in range (0 , 1): #Limitamos el rango para poder probar si funciona\n",
    "    \n",
    "    nombre_peli = f'{pelis_buscar[i][0]}'\n",
    "    \n",
    "    # Accedemos a la barra de búsqueda y buscamos el nombre de la peli\n",
    "    driver.find_element(\"css selector\", \"#header-main > search-algolia > search-algolia-controls > input\").send_keys(nombre_peli, Keys.ENTER)     "
   ]
  }
 ],
 "metadata": {
  "kernelspec": {
   "display_name": "Python 3",
   "language": "python",
   "name": "python3"
  },
  "language_info": {
   "codemirror_mode": {
    "name": "ipython",
    "version": 3
   },
   "file_extension": ".py",
   "mimetype": "text/x-python",
   "name": "python",
   "nbconvert_exporter": "python",
   "pygments_lexer": "ipython3",
   "version": "3.9.0"
  }
 },
 "nbformat": 4,
 "nbformat_minor": 2
}
