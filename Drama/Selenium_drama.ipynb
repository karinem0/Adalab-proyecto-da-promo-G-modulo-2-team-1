{
 "cells": [
  {
   "cell_type": "markdown",
   "metadata": {},
   "source": [
    "Extracción de datos con Selenium"
   ]
  },
  {
   "cell_type": "code",
   "execution_count": 1,
   "metadata": {},
   "outputs": [],
   "source": [
    "import pandas as pd  \n",
    "import numpy as np\n",
    "import re\n",
    "from unidecode import unidecode # para quitar acentos --> 'pip install unicode' en la terminal si no está instalada\n",
    "\n",
    "from bs4 import BeautifulSoup\n",
    "import requests\n",
    "\n",
    "from selenium import webdriver\n",
    "from webdriver_manager.chrome import ChromeDriverManager  \n",
    "from selenium.webdriver.common.keys import Keys  \n",
    "from selenium.webdriver.support.ui import Select \n",
    "\n",
    "import random\n",
    "\n",
    "from time import sleep  \n",
    "\n",
    "pd.set_option('display.max_columns', None)  "
   ]
  },
  {
   "cell_type": "code",
   "execution_count": 2,
   "metadata": {},
   "outputs": [
    {
     "data": {
      "text/plain": [
       "77"
      ]
     },
     "execution_count": 2,
     "metadata": {},
     "output_type": "execute_result"
    }
   ],
   "source": [
    "random.randint(0 , 100)"
   ]
  },
  {
   "cell_type": "code",
   "execution_count": 5,
   "metadata": {},
   "outputs": [],
   "source": [
    "pelis_drama_2000_2004 = pd.read_csv(\"pelis_drama_2000_2004.csv\")"
   ]
  },
  {
   "cell_type": "code",
   "execution_count": 6,
   "metadata": {},
   "outputs": [],
   "source": [
    "ultimo_elemento = pelis_drama_2000_2004.shape[0]\n",
    "\n",
    "pelis_buscar = [(pelis_drama_2000_2004.at[i, '1'] , pelis_drama_2000_2004.at[i, '2']) for i in range (0, ultimo_elemento)] # Se agrega a la lista una tupla con el nombre , año de la peli por cada índice dentro del rango 0 , ultimo elemento de pelis_drama_2000_2004"
   ]
  },
  {
   "cell_type": "code",
   "execution_count": 56,
   "metadata": {},
   "outputs": [],
   "source": [
    "driver = webdriver.Chrome()\n",
    "\n",
    "driver.get(\"https://www.rottentomatoes.com/\")\n",
    "\n",
    "# Ampliar la ventana a tamaño completo\n",
    "driver.maximize_window()\n",
    "\n",
    "sleep(3)\n",
    "\n",
    "# Aceptar los anuncios en la página para continuar navegando\n",
    "try:\n",
    "    driver.find_element(\"xpath\" , \"/html/body/div[5]/div/div[1]/div/div/div/div[2]/div/div/button\").click()\n",
    "    \n",
    "except:\n",
    "    pass\n",
    "\n",
    "# Rechazar cookies\n",
    "try:\n",
    "    driver.find_element(\"css selector\" , \"#onetrust-reject-all-handler\").click()\n",
    "    \n",
    "except:\n",
    "    pass\n",
    "\n",
    "sleep(3)\n",
    "\n",
    "ultimo_rango = len(pelis_buscar)\n",
    "\n",
    "pelis_con_puntuacion = []\n",
    "\n",
    "for i in range (0 , 20): # Limitamos el rango para poder probar si funciona\n",
    "    \n",
    "    nombre_peli = f'{pelis_buscar[i][0]}'\n",
    "    anio_peli = int(f'{pelis_buscar[i][1]}')\n",
    "    \n",
    "    # Accedemos a la barra de búsqueda y buscamos el nombre de la peli\n",
    "    driver.find_element(\"css selector\", \"#header-main > search-algolia > search-algolia-controls > input\").send_keys(nombre_peli, Keys.ENTER)\n",
    "\n",
    "    for resultado in range (1 , 30): # Itera por los primeros 30 resultados de la primera página\n",
    "        \n",
    "        try:\n",
    "            datos_resultado = driver.find_element('css selector', f'#search-results > search-page-result:nth-child(2) > ul > search-page-media-row:nth-child({resultado})').text.split(\"\\n\") # Obtiene los datos del resultado (puntuacion, titulo, año...)\n",
    "            titulo = re.search('(.+?)\\s*\\(\\d{4}\\)' , datos_resultado[1]).group(1) # Sacamos sólo el título de la combinación titulo-año\n",
    "            anio = int(re.search('\\((\\d{4})\\)' , datos_resultado[1]).group(1)) # Sacamos sólo el año de la combinación titulo-año\n",
    "            \n",
    "        except:\n",
    "            break # Si no existe el resultado, detiene el bucle y busca otra película\n",
    "        \n",
    "        # Si el título se encuentra en el nombre de la película y el año es el mismo    \n",
    "        if unidecode(titulo).lower() in unidecode(nombre_peli).lower() and anio_peli == anio: \n",
    "            \n",
    "            # Prueba a añadir la puntuación como integer y en caso de que no exista, añade '--'\n",
    "            try:\n",
    "                puntuacion = int(datos_resultado[0].replace(\"%\" , \"\"))\n",
    "            except:\n",
    "                puntuacion = '-'\n",
    "                \n",
    "            break  # Detiene el bucle al haber encontrado una coincidencia  \n",
    "        \n",
    "        # Si el título no coincide con el resultado       \n",
    "        else:\n",
    "            puntuacion = np.nan\n",
    "        \n",
    "    sleep(2)        \n",
    "    tupla = (nombre_peli , anio_peli , puntuacion)\n",
    "    pelis_con_puntuacion.append(tupla) \n",
    "         "
   ]
  },
  {
   "cell_type": "code",
   "execution_count": 57,
   "metadata": {},
   "outputs": [
    {
     "data": {
      "text/plain": [
       "[('Istota', 2000, nan),\n",
       " ('For the Cause', 2000, nan),\n",
       " ('Florentino y el diablo', 2000, nan),\n",
       " ('Karobaar: The Business of Love', 2000, nan),\n",
       " ('Gang', 2000, '-'),\n",
       " ('Consequence', 2000, nan),\n",
       " ('Fa yeung nin wah', 2000, nan),\n",
       " ('Beyond the Pale', 2000, nan),\n",
       " ('Chinese Coffee', 2000, '-'),\n",
       " ('Passionnément', 2000, '-'),\n",
       " ('Love 101', 2000, nan),\n",
       " ('Pushing the Envelope', 2000, nan),\n",
       " ('Way Past Cool', 2000, nan),\n",
       " ('State and Main', 2000, nan),\n",
       " ('Vulgar', 2000, 23),\n",
       " ('Bruno', 2000, 20),\n",
       " ('Lured Innocence', 2000, nan),\n",
       " ('Shikari', 2000, '-'),\n",
       " ('Capitães de Abril', 2000, nan),\n",
       " ('Sånger från andra våningen', 2000, nan)]"
      ]
     },
     "execution_count": 57,
     "metadata": {},
     "output_type": "execute_result"
    }
   ],
   "source": [
    "pelis_con_puntuacion # Si aparecen con nan es que no las encontró - Si tienen '-' es que las encontró, pero no tenían puntuación - Si tienen un número, es que las encontró y tenían puntuación"
   ]
  }
 ],
 "metadata": {
  "kernelspec": {
   "display_name": "Python 3",
   "language": "python",
   "name": "python3"
  },
  "language_info": {
   "codemirror_mode": {
    "name": "ipython",
    "version": 3
   },
   "file_extension": ".py",
   "mimetype": "text/x-python",
   "name": "python",
   "nbconvert_exporter": "python",
   "pygments_lexer": "ipython3",
   "version": "3.9.13"
  }
 },
 "nbformat": 4,
 "nbformat_minor": 2
}
