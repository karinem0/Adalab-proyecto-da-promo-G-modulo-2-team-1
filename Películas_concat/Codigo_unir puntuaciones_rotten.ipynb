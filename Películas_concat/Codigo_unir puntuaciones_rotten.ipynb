{
 "cells": [
  {
   "cell_type": "code",
   "execution_count": 23,
   "metadata": {},
   "outputs": [],
   "source": [
    "import pandas as pd\n",
    "\n",
    "def agregar_puntuacion_externa(puntuaciones_rotten_csv, peliculas_csv, output):\n",
    "    # Leer archivos CSV\n",
    "    puntuaciones_rotten = pd.read_csv(puntuaciones_rotten_csv)\n",
    "    peliculas = pd.read_csv(peliculas_csv)\n",
    "\n",
    "    # Inicializar la columna 'puntuacion_externa' como \"-\"\n",
    "    peliculas['puntuacion_rotten'] = \"-\"\n",
    "\n",
    "    for index, pelicula in peliculas.iterrows():\n",
    "        nombre_peli = pelicula['titulo'].lower()  # Obtener el nombre de la película\n",
    "        anio_peli = int(pelicula['anio'])  # Obtener el año de la película\n",
    "\n",
    "        # Buscar si el título y el año de la película coinciden en las puntuaciones\n",
    "        coincidencia = puntuaciones_rotten[\n",
    "            (puntuaciones_rotten['titulo'].str.lower() == nombre_peli) &\n",
    "            (puntuaciones_rotten['anio'] == anio_peli)]\n",
    "\n",
    "        if not coincidencia.empty: \n",
    "             \n",
    "            try:\n",
    "                puntuacion_tomate = str(coincidencia['puntuacion_rotten'].iloc[0])\n",
    "\n",
    "            except KeyError:\n",
    "                puntuacion_tomate = \"-\"\n",
    "            peliculas.at[index, 'puntuacion_rotten'] = puntuacion_tomate\n",
    "\n",
    "\n",
    "        if coincidencia.empty:\n",
    "            continue \n",
    "\n",
    "    # Reorganizar columnas\n",
    "    columnas = list(peliculas)\n",
    "    indice_puntuacion_imdb = columnas.index('puntuacion_imdb')\n",
    "    columnas.insert(indice_puntuacion_imdb, 'puntuacion_rotten')\n",
    "    columnas = columnas[:-1]\n",
    "    peliculas = peliculas[columnas]\n",
    "\n",
    "    # Guardar el DataFrame como un archivo CSV\n",
    "    peliculas.to_csv(output, index=False)\n"
   ]
  },
  {
   "cell_type": "code",
   "execution_count": 24,
   "metadata": {},
   "outputs": [],
   "source": [
    "\n",
    "# Ejemplo de uso de la función\n",
    "agregar_puntuacion_externa('tomatoes_cortos_comedia_2015_2019.csv', 'detalles_cortos_comedia_2015_2019.csv', 'peliculas_aaaa_comedia_2015.csv')\n"
   ]
  }
 ],
 "metadata": {
  "kernelspec": {
   "display_name": "Python 3",
   "language": "python",
   "name": "python3"
  },
  "language_info": {
   "codemirror_mode": {
    "name": "ipython",
    "version": 3
   },
   "file_extension": ".py",
   "mimetype": "text/x-python",
   "name": "python",
   "nbconvert_exporter": "python",
   "pygments_lexer": "ipython3",
   "version": "3.9.13"
  }
 },
 "nbformat": 4,
 "nbformat_minor": 2
}
