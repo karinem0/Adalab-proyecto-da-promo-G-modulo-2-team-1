{
 "cells": [
  {
   "cell_type": "code",
   "execution_count": 1,
   "metadata": {},
   "outputs": [],
   "source": [
    "import pandas as pd\n",
    "import requests"
   ]
  },
  {
   "cell_type": "code",
   "execution_count": 7,
   "metadata": {},
   "outputs": [],
   "source": [
    "def extraer_datos(anio_inicial, anio_final, genero , tipo , key):\n",
    "    pelis = {}\n",
    "    anio_distinto = False\n",
    "\n",
    "    print(f\"--- Extrayendo datos ---\")\n",
    "    print(\" \")\n",
    "\n",
    "    for anio in range(anio_inicial, anio_final+1): \n",
    "\n",
    "        print(f\"Iterando por el año {anio}:\")\n",
    "        \n",
    "        for pag in range(1, 51): # Itera por un rango determinado de páginas, ya que por cada página sólo se puede obtener un máximo de 50 entradas\n",
    "            if anio_distinto: # Condición para que detenga el bucle si el año de lanzamiento es distinto al solicitado (variable = True)\n",
    "                break\n",
    "\n",
    "            url = \"https://moviesdatabase.p.rapidapi.com/titles\"\n",
    "            querystring = {\"genre\": genero, \"year\": anio, \"page\": pag, 'sort': 'year.incr' , 'titleType' : tipo} # Parámetros de la URL (versión 1, si no funciona o devuelve menos resultados de lo esperado >>> reemplazar por versión 2)\n",
    "            #(versión 2: querystring = {\"genre\": genero, \"startYear\": anio, \"endYear\": anio, \"page\": pag, 'titleType' : tipo})\n",
    "            headers = {\"X-RapidAPI-Key\": key, \"X-RapidAPI-Host\": \"moviesdatabase.p.rapidapi.com\"}\n",
    "            response = requests.get(url, headers=headers, params=querystring)\n",
    "            response = response.json()\n",
    "\n",
    "            try: # Intenta acceder al diccionario\n",
    "                response['results']\n",
    "\n",
    "            except: # Si no puede acceder significa que la url ha devuelto otra cosa y que, probablemente, se haya llegado al máximo de solicituds permitidas por hora\n",
    "                print(f\"Se ha llegado al límite de solicitudes. Deteniendo la iteración\")\n",
    "                break # Si se ha llegado al límite de solicitudes, detiene el bucle para que este no dé error\n",
    "\n",
    "            # Revisa si la página que ha devuelto la API coincide con la página solicitada (se ha detectado que en el caso de no encontrar una página, la API devuelve la 1 por defecto y eso provocaba repeticiones de datos). \n",
    "            if response.get('page') != str(pag):\n",
    "                print(f\"La página {pag} no existe. Deteniendo la iteración.\")\n",
    "                break # Si los datos no coinciden, detiene el bucle\n",
    "\n",
    "            # Revisa si no encuentra más entradas y en caso afirmativo detiene el bucle\n",
    "            if len(response['results']) == 0:\n",
    "                print(f\"Ya no hay más resultados. Deteniendo la iteración\")\n",
    "                break\n",
    "            \n",
    "            # Itera por cada película/serie/elemento dentro de la lista de resultados\n",
    "            for pelicula in response['results']:\n",
    "                release_year = pelicula.get('releaseYear') # Asigna el valor de releaseYear a una variable\n",
    "\n",
    "                # Revisa si el valor de releaseYear no es un None (es decir, existe) y si es distinto al año solicitado. En caso de que así sea, detiene el bucle\n",
    "                if release_year is not None and pelicula['releaseYear']['year'] != anio:\n",
    "                    print(f\"Se ha detectado un año diferente a {anio}. Deteniendo la iteración\")\n",
    "                    anio_distinto = True  # Asigna el valor True a la variable anio_distinto para que sirva como parada del primer bucle for\n",
    "                    break\n",
    "\n",
    "            # Añade los resultados encontrados si ninguna de las anteriores condiciones para detener el bucle se ha cumplido y continúa con la búsqueda\n",
    "            pelis[(anio, pag)] = response['results']\n",
    "\n",
    "        print(\" \")\n",
    "\n",
    "    print(f\"--- Extracción de datos finalizada ---\")\n",
    "    \n",
    "    return pelis"
   ]
  },
  {
   "cell_type": "code",
   "execution_count": 8,
   "metadata": {},
   "outputs": [
    {
     "name": "stdout",
     "output_type": "stream",
     "text": [
      "--- Extrayendo datos ---\n",
      " \n",
      "Iterando por el año 2020:\n",
      " \n",
      "Iterando por el año 2021:\n",
      " \n",
      "Iterando por el año 2022:\n",
      " \n",
      "Iterando por el año 2023:\n",
      " \n",
      "--- Extracción de datos finalizada ---\n"
     ]
    }
   ],
   "source": [
    "anio_inicial = 2000\n",
    "anio_final = 2004\n",
    "genero = \"Drama\"\n",
    "tipo = \"movie\"\n",
    "key = \"b38cd0a830msh149cd093d780ffcp1fa141jsnc85ccd4fb846\" # Cambiar por la key personal\n",
    "\n",
    "pelis_drama = extraer_datos(anio_inicial , anio_final , genero , tipo , key)"
   ]
  },
  {
   "cell_type": "code",
   "execution_count": 75,
   "metadata": {},
   "outputs": [
    {
     "name": "stdout",
     "output_type": "stream",
     "text": [
      "--- Extrayendo datos ---\n",
      " \n",
      "Iterando por el año 2000:\n",
      " \n",
      "Iterando por el año 2001:\n",
      " \n",
      "Iterando por el año 2002:\n",
      " \n",
      "Iterando por el año 2003:\n",
      " \n",
      "Iterando por el año 2004:\n",
      " \n",
      "--- Extracción de datos finalizada ---\n"
     ]
    }
   ],
   "source": [
    "anio_inicial = 2000\n",
    "anio_final = 2004\n",
    "genero = \"Drama\"\n",
    "tipo = \"short\"\n",
    "key = \"22f73ac8d3msh933da10d160edbcp19332ajsndd3d7103a397\" # Cambiar por la key personal\n",
    "\n",
    "cortos_drama = extraer_datos(anio_inicial , anio_final , genero , tipo , key)"
   ]
  },
  {
   "cell_type": "code",
   "execution_count": 82,
   "metadata": {},
   "outputs": [
    {
     "name": "stdout",
     "output_type": "stream",
     "text": [
      "--- Extrayendo datos ---\n",
      " \n",
      "Iterando por el año 2000:\n",
      " \n",
      "Iterando por el año 2001:\n",
      " \n",
      "Iterando por el año 2002:\n",
      " \n",
      "Iterando por el año 2003:\n",
      " \n",
      "Iterando por el año 2004:\n",
      " \n",
      "--- Extracción de datos finalizada ---\n"
     ]
    }
   ],
   "source": [
    "anio_inicial = 2000\n",
    "anio_final = 2004\n",
    "genero = \"Comedy\"\n",
    "tipo = \"movie\"\n",
    "key = \"22f73ac8d3msh933da10d160edbcp19332ajsndd3d7103a397\" # Cambiar por la key personal\n",
    "\n",
    "pelis_comedia = extraer_datos(anio_inicial , anio_final , genero , tipo , key)"
   ]
  },
  {
   "cell_type": "code",
   "execution_count": 91,
   "metadata": {},
   "outputs": [
    {
     "name": "stdout",
     "output_type": "stream",
     "text": [
      "--- Extrayendo datos ---\n",
      " \n",
      "Iterando por el año 2000:\n",
      " \n",
      "Iterando por el año 2001:\n",
      " \n",
      "Iterando por el año 2002:\n",
      " \n",
      "Iterando por el año 2003:\n",
      " \n",
      "Iterando por el año 2004:\n",
      " \n",
      "--- Extracción de datos finalizada ---\n"
     ]
    }
   ],
   "source": [
    "anio_inicial = 2000\n",
    "anio_final = 2004\n",
    "genero = \"Comedy\"\n",
    "tipo = \"short\"\n",
    "key = \"22f73ac8d3msh933da10d160edbcp19332ajsndd3d7103a397\" # Cambiar por la key personal\n",
    "\n",
    "cortos_comedia = extraer_datos(anio_inicial , anio_final , genero , tipo , key)"
   ]
  },
  {
   "cell_type": "code",
   "execution_count": 94,
   "metadata": {},
   "outputs": [
    {
     "name": "stdout",
     "output_type": "stream",
     "text": [
      "--- Extrayendo datos ---\n",
      " \n",
      "Iterando por el año 2000:\n",
      " \n",
      "Iterando por el año 2001:\n",
      " \n",
      "Iterando por el año 2002:\n",
      " \n",
      "Iterando por el año 2003:\n",
      " \n",
      "Iterando por el año 2004:\n",
      " \n",
      "--- Extracción de datos finalizada ---\n"
     ]
    }
   ],
   "source": [
    "anio_inicial = 2000\n",
    "anio_final = 2004\n",
    "genero = \"Action\"\n",
    "tipo = \"movie\"\n",
    "key = \"22f73ac8d3msh933da10d160edbcp19332ajsndd3d7103a397\" # Cambiar por la key personal\n",
    "\n",
    "pelis_accion = extraer_datos(anio_inicial , anio_final , genero , tipo , key)"
   ]
  },
  {
   "cell_type": "code",
   "execution_count": 95,
   "metadata": {},
   "outputs": [
    {
     "name": "stdout",
     "output_type": "stream",
     "text": [
      "--- Extrayendo datos ---\n",
      " \n",
      "Iterando por el año 2000:\n",
      "Ya no hay más resultados. Deteniendo la iteración\n",
      " \n",
      "Iterando por el año 2001:\n",
      "Ya no hay más resultados. Deteniendo la iteración\n",
      " \n",
      "Iterando por el año 2002:\n",
      "Ya no hay más resultados. Deteniendo la iteración\n",
      " \n",
      "Iterando por el año 2003:\n",
      "Ya no hay más resultados. Deteniendo la iteración\n",
      " \n",
      "Iterando por el año 2004:\n",
      "Ya no hay más resultados. Deteniendo la iteración\n",
      " \n",
      "--- Extracción de datos finalizada ---\n"
     ]
    }
   ],
   "source": [
    "anio_inicial = 2000\n",
    "anio_final = 2004\n",
    "genero = \"Action\"\n",
    "tipo = \"short\"\n",
    "key = \"b38cd0a830msh149cd093d780ffcp1fa141jsnc85ccd4fb846\" # Cambiar por la key personal\n",
    "\n",
    "cortos_accion = extraer_datos(anio_inicial , anio_final , genero , tipo , key)"
   ]
  },
  {
   "cell_type": "code",
   "execution_count": 9,
   "metadata": {},
   "outputs": [],
   "source": [
    "def limpiar_datos(dict_json):\n",
    "    \n",
    "    peliculas = []\n",
    "    \n",
    "    # Itera por cada clave del diccionario, es decir: Va entrando en 2000, 1 > 2000 , 2 ... \n",
    "    for anio_pagina in dict_json:\n",
    "        \n",
    "        # Itera por cada uno de los valores que hay por página y año\n",
    "        for elemento in dict_json[anio_pagina]:\n",
    "                \n",
    "            if elemento['titleType']['id'] == 'movie':\n",
    "                \n",
    "                tipo = 'Pelicula'\n",
    "                \n",
    "            elif elemento['titleType']['id'] == 'short':\n",
    "                \n",
    "                tipo = 'Cortometraje'\n",
    "        \n",
    "            nombre = elemento['titleText']['text'] # Agrega el título de la película o el cortometraje\n",
    "            anio_estreno = elemento['releaseYear']['year'] # Agrega el año de estreno\n",
    "            id_pelicula = elemento['id'] # Agrega el valor de la ID\n",
    "            release_date = elemento.get('releaseDate') # Asigna el valor de releaseDate a una variable \n",
    "            \n",
    "            if release_date is not None: # Revisa que el valor de release_date no sea un None\n",
    "                mes_estreno = elemento['releaseDate']['month']  # Si no es un None, agrega el mes de estreno\n",
    "                \n",
    "            else:\n",
    "                mes_estreno = \"-\" # Si el valor de release_date es un None, agrega \"-\" ya que no tenemos el dato del mes\n",
    "            \n",
    "            pelicula_corto = (tipo , nombre , anio_estreno , mes_estreno , id_pelicula) # Crea una tupla con todos los elementos de la película o el cortometraje\n",
    "            peliculas.append(pelicula_corto) # Añade la tupla a la lista de tuplas\n",
    "    \n",
    "    return peliculas"
   ]
  },
  {
   "cell_type": "code",
   "execution_count": 10,
   "metadata": {},
   "outputs": [],
   "source": [
    "pelis_drama_limpio = limpiar_datos(pelis_drama)"
   ]
  },
  {
   "cell_type": "code",
   "execution_count": 101,
   "metadata": {},
   "outputs": [],
   "source": [
    "cortos_drama_limpio = limpiar_datos(cortos_drama)"
   ]
  },
  {
   "cell_type": "code",
   "execution_count": 102,
   "metadata": {},
   "outputs": [],
   "source": [
    "pelis_comedia_limpio = limpiar_datos(pelis_comedia)"
   ]
  },
  {
   "cell_type": "code",
   "execution_count": 103,
   "metadata": {},
   "outputs": [],
   "source": [
    "cortos_comedia_limpio = limpiar_datos(cortos_comedia)"
   ]
  },
  {
   "cell_type": "code",
   "execution_count": 104,
   "metadata": {},
   "outputs": [],
   "source": [
    "pelis_accion_limpio = limpiar_datos(pelis_accion)"
   ]
  },
  {
   "cell_type": "code",
   "execution_count": 105,
   "metadata": {},
   "outputs": [],
   "source": [
    "cortos_accion_limpio = limpiar_datos(cortos_accion)"
   ]
  },
  {
   "cell_type": "code",
   "execution_count": 11,
   "metadata": {},
   "outputs": [],
   "source": [
    "def guardar_csv (dict_json):\n",
    "    \n",
    "    df_dict_json = pd.DataFrame(dict_json)\n",
    "    \n",
    "    df_dict_json.to_csv(input(\"Indica el nombre del archivo. Recuerda poner .csv al final\"))"
   ]
  },
  {
   "cell_type": "code",
   "execution_count": 12,
   "metadata": {},
   "outputs": [],
   "source": [
    "guardar_csv(pelis_drama_limpio) # Ejemplo de input: pelis_drama_2000_2004.csv"
   ]
  },
  {
   "cell_type": "code",
   "execution_count": 81,
   "metadata": {},
   "outputs": [],
   "source": [
    "guardar_csv(cortos_drama_limpio) # Ejemplo de input: cortos_drama_2000_2004.csv"
   ]
  },
  {
   "cell_type": "code",
   "execution_count": 86,
   "metadata": {},
   "outputs": [],
   "source": [
    "guardar_csv(pelis_comedia_limpio) "
   ]
  },
  {
   "cell_type": "code",
   "execution_count": 93,
   "metadata": {},
   "outputs": [],
   "source": [
    "guardar_csv(cortos_comedia_limpio)"
   ]
  },
  {
   "cell_type": "code",
   "execution_count": 98,
   "metadata": {},
   "outputs": [],
   "source": [
    "guardar_csv(pelis_accion_limpio)"
   ]
  },
  {
   "cell_type": "code",
   "execution_count": 99,
   "metadata": {},
   "outputs": [],
   "source": [
    "guardar_csv(cortos_accion_limpio)"
   ]
  },
  {
   "cell_type": "code",
   "execution_count": 8,
   "metadata": {},
   "outputs": [
    {
     "name": "stdout",
     "output_type": "stream",
     "text": [
      "En la iteración número 228 me he ido a por un cafecito ☕. Volveré en 3.2 minutos\n",
      "¡Ya estoy de vuelta! Sigo con lo mío 💫\n",
      " \n",
      "En la iteración número 441 me he ido a por un cafecito ☕. Volveré en 1.9 minutos\n",
      "¡Ya estoy de vuelta! Sigo con lo mío 💫\n",
      " \n",
      "En la iteración número 660 me he ido a por un cafecito ☕. Volveré en 2.9 minutos\n",
      "¡Ya estoy de vuelta! Sigo con lo mío 💫\n",
      " \n",
      "En la iteración número 860 me he ido a por un cafecito ☕. Volveré en 3.0 minutos\n",
      "¡Ya estoy de vuelta! Sigo con lo mío 💫\n",
      " \n",
      "En la iteración número 1070 me he ido a por un cafecito ☕. Volveré en 1.8 minutos\n",
      "¡Ya estoy de vuelta! Sigo con lo mío 💫\n",
      " \n",
      "En la iteración número 1288 me he ido a por un cafecito ☕. Volveré en 3.0 minutos\n",
      "¡Ya estoy de vuelta! Sigo con lo mío 💫\n",
      " \n",
      "En la iteración número 1496 me he ido a por un cafecito ☕. Volveré en 4.6 minutos\n",
      "¡Ya estoy de vuelta! Sigo con lo mío 💫\n",
      " \n",
      "En la iteración número 1701 me he ido a por un cafecito ☕. Volveré en 0.6 minutos\n",
      "¡Ya estoy de vuelta! Sigo con lo mío 💫\n",
      " \n",
      "En la iteración número 1902 me he ido a por un cafecito ☕. Volveré en 3.1 minutos\n",
      "¡Ya estoy de vuelta! Sigo con lo mío 💫\n",
      " \n",
      "En la iteración número 2106 me he ido a por un cafecito ☕. Volveré en 4.5 minutos\n",
      "¡Ya estoy de vuelta! Sigo con lo mío 💫\n",
      " \n",
      "En la iteración número 2316 me he ido a por un cafecito ☕. Volveré en 1.6 minutos\n",
      "¡Ya estoy de vuelta! Sigo con lo mío 💫\n",
      " \n"
     ]
    }
   ],
   "source": [
    "import random\n",
    "\n",
    "ultimo_descanso = 0\n",
    "\n",
    "for i in range (0 , 2500):\n",
    "    \n",
    "    # Condición para asegurar que una vez que se haya hecho un descanso, no se repita hasta pasado un mínimo de iteraciones\n",
    "    if i >= ultimo_descanso + 200:\n",
    "        descanso = random.randint(5, 20) # Escoge un número random y lo asigna a la variable descanso\n",
    "        \n",
    "        # Si el número de iteración es divisible por el número de descanso, se para durante una cantidad de segundos aleatoria\n",
    "        if i != 0 and i % descanso == 0:\n",
    "            tiempo_descanso = random.randint(30 , 330)\n",
    "            ultimo_descanso = i \n",
    "            print(f\"En la iteración número {i} me he ido a por un cafecito ☕. Volveré en {round(tiempo_descanso/60 , 1)} minutos\")\n",
    "            print(f\"¡Ya estoy de vuelta! Sigo con lo mío 💫\")\n",
    "            print(' ')"
   ]
  }
 ],
 "metadata": {
  "kernelspec": {
   "display_name": "base",
   "language": "python",
   "name": "python3"
  },
  "language_info": {
   "codemirror_mode": {
    "name": "ipython",
    "version": 3
   },
   "file_extension": ".py",
   "mimetype": "text/x-python",
   "name": "python",
   "nbconvert_exporter": "python",
   "pygments_lexer": "ipython3",
   "version": "3.9.13"
  }
 },
 "nbformat": 4,
 "nbformat_minor": 2
}
