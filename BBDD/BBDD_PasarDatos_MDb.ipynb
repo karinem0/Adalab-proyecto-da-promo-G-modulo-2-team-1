{
 "cells": [
  {
   "cell_type": "code",
   "execution_count": 2,
   "metadata": {},
   "outputs": [],
   "source": [
    "# Importar librería para la conexión con MySQL\n",
    "# -----------------------------------------------------------------------\n",
    "import mysql.connector\n",
    "from mysql.connector import errorcode\n",
    "\n",
    "\n",
    "# Importar librerías para manipulación y análisis de datos\n",
    "# -----------------------------------------------------------------------\n",
    "import pandas as pd\n",
    "import numpy as np"
   ]
  },
  {
   "cell_type": "code",
   "execution_count": 82,
   "metadata": {},
   "outputs": [],
   "source": [
    "def sacar_tuplas_moviedatabase(archivo):\n",
    "    \"\"\"\n",
    "    Extrae las tuplas de datos de un archivo CSV.\n",
    "\n",
    "    Parameters:\n",
    "    archivo (str): La ruta del archivo CSV.\n",
    "\n",
    "    Returns:\n",
    "    list: Una lista de tuplas que contienen los datos extraídos del archivo CSV.\n",
    "    \"\"\"\n",
    "\n",
    "    # Lee el archivo CSV y carga los datos en un DataFrame\n",
    "    df_detalles = pd.read_csv(archivo)\n",
    "    \n",
    "    # Lista para almacenar las tuplas extraídas\n",
    "    val = []\n",
    "    \n",
    "    # Lista para almacenar las filas duplicadas\n",
    "    duplicadas = []\n",
    "\n",
    "    # Recorre cada fila del DataFrame\n",
    "    for pelicula in df_detalles.values:\n",
    "        \n",
    "        # Convierte la fila en una lista\n",
    "        pelicula = list(pelicula)\n",
    "        \n",
    "        # Itera sobre cada elemento de la película\n",
    "        for i, elemento in enumerate(pelicula):\n",
    "            \n",
    "            # Reemplaza los valores NaN con None\n",
    "            if elemento is np.nan:\n",
    "                pelicula[i] = None\n",
    "            \n",
    "            # Iguala los tipos específicos de las películas a los más comunes\n",
    "            if isinstance(elemento, str):\n",
    "                if elemento == 'Short':\n",
    "                    pelicula[i] = 'Cortometraje'\n",
    "                if elemento == 'Movie':\n",
    "                    pelicula[i] = 'Pelicula'\n",
    "                \n",
    "                # Intenta convertir los elementos de tipo str a float o int si es posible\n",
    "                if \".\" in elemento:\n",
    "                    try:\n",
    "                        pelicula[i] = float(elemento)\n",
    "                    except:\n",
    "                        pass\n",
    "                \n",
    "                if any(caracter.isdigit() for caracter in elemento):\n",
    "                    try:\n",
    "                        pelicula[i] = int(elemento)\n",
    "                    except:\n",
    "                        pass\n",
    "                    \n",
    "                if elemento.startswith('-') and elemento.endswith('-'):\n",
    "                    try:\n",
    "                        pelicula[i] = None\n",
    "                    except:\n",
    "                        pass\n",
    "                    \n",
    "        # Verifica si la película ya está en la lista de datos\n",
    "        for dato in val:\n",
    "            if pelicula[-1] in dato:\n",
    "                duplicadas.append(pelicula)\n",
    "            \n",
    "        # Agrega la película a la lista de datos si no está duplicada\n",
    "        if pelicula not in duplicadas:\n",
    "            val.append(tuple(pelicula))\n",
    "    \n",
    "    # Retorna la lista de tuplas\n",
    "    return val"
   ]
  },
  {
   "cell_type": "code",
   "execution_count": null,
   "metadata": {},
   "outputs": [],
   "source": [
    "# Asigna a la variable el archivo csv que queremos importar a la BBDD\n",
    "\n",
    "archivo = \"\""
   ]
  },
  {
   "cell_type": "code",
   "execution_count": 81,
   "metadata": {},
   "outputs": [
    {
     "name": "stdout",
     "output_type": "stream",
     "text": [
      "6438 registro insertado.\n"
     ]
    }
   ],
   "source": [
    "# Establece la conexión con la el servidor MySQL y la BBDD\n",
    "\n",
    "cnx = mysql.connector.connect(user='root', password='AlumnaAdalab',\n",
    "                              host='127.0.0.1', database='proyecto_cinemextract')\n",
    "\n",
    "\n",
    "\n",
    "# Inserta los datos usando la llamada a la función en la tabla deseada\n",
    "\n",
    "mycursor = cnx.cursor()\n",
    "query = \"INSERT INTO peliculas (Tipo, Titulo, AnioEstreno, MesEstreno, IdPelicula) VALUES (%s, %s, %s, %s, %s)\"\n",
    "\n",
    "# Si el archivo de origen contiene índices, llamar a la funcion 'sacar_tuplas_i_moviedatabase'\n",
    "val = sacar_tuplas_moviedatabase(archivo)\n",
    "\n",
    "try: \n",
    "    mycursor.executemany(query, val)\n",
    "    cnx.commit()\n",
    "    print(mycursor.rowcount, \"registro insertado.\")\n",
    "\n",
    "except mysql.connector.Error as err:\n",
    "    print(err)\n",
    "    print(\"Error Code:\", err.errno)\n",
    "    print(\"SQLSTATE\", err.sqlstate)\n",
    "    print(\"Message\", err.msg)"
   ]
  }
 ],
 "metadata": {
  "kernelspec": {
   "display_name": "Python 3",
   "language": "python",
   "name": "python3"
  },
  "language_info": {
   "codemirror_mode": {
    "name": "ipython",
    "version": 3
   },
   "file_extension": ".py",
   "mimetype": "text/x-python",
   "name": "python",
   "nbconvert_exporter": "python",
   "pygments_lexer": "ipython3",
   "version": "3.9.13"
  }
 },
 "nbformat": 4,
 "nbformat_minor": 2
}
