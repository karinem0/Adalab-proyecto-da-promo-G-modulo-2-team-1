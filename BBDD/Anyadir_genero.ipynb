{
 "cells": [
  {
   "cell_type": "code",
   "execution_count": 3,
   "metadata": {},
   "outputs": [],
   "source": [
    "import pandas as pd"
   ]
  },
  {
   "cell_type": "code",
   "execution_count": 4,
   "metadata": {},
   "outputs": [],
   "source": [
    "def agregar_genero (archivo_detalles , genero , nombre_salida):\n",
    "\n",
    "    df_detalles = pd.read_csv(archivo_detalles , index_col=0) \n",
    "\n",
    "    nueva_lista = []\n",
    "\n",
    "    for indice, pelicula in df_detalles.iterrows():\n",
    "        pelicula = list(pelicula)\n",
    "        pelicula.insert(5 , genero)\n",
    "        pelicula = tuple(pelicula)\n",
    "        nueva_lista.append(pelicula)\n",
    "        \n",
    "    df_nueva_lista = pd.DataFrame(nueva_lista)\n",
    "\n",
    "    nombres_columnas = ['puntuacion_imdb' , 'direccion' , 'guion' , 'argumento' , 'duracion', 'genero' , 'titulo', 'anio']\n",
    "\n",
    "    df_nueva_lista.columns = nombres_columnas\n",
    "\n",
    "    df_nueva_lista.to_csv(nombre_salida , index=False)   "
   ]
  },
  {
   "cell_type": "code",
   "execution_count": 9,
   "metadata": {},
   "outputs": [],
   "source": [
    "archivo_detalles = \"Proyectos\\Modulo-2\\Adalab-proyecto-da-promo-G-modulo-2-team-1\\Drama\\IMDb\\detalles_cortos_drama_2000_2004.csv\"\n",
    "genero = \"Drama\"\n",
    "nombre_salida = \"Proyectos\\Modulo-2\\Adalab-proyecto-da-promo-G-modulo-2-team-1\\Drama\\IMDb\\detalles_cortos_drama_2000_2004.csv\"\n",
    "\n",
    "agregar_genero(archivo_detalles , nombre_salida)"
   ]
  },
  {
   "cell_type": "code",
   "execution_count": null,
   "metadata": {},
   "outputs": [],
   "source": [
    "archivo_detalles = \"Proyectos\\Modulo-2\\Adalab-proyecto-da-promo-G-modulo-2-team-1\\Drama\\IMDb\\detalles_pelis_drama_2000_2004.csv\"\n",
    "genero = \"Drama\"\n",
    "nombre_salida = \"Proyectos\\Modulo-2\\Adalab-proyecto-da-promo-G-modulo-2-team-1\\Drama\\IMDb\\detalles_pelis_drama_2000_2004.csv\"\n",
    "\n",
    "agregar_genero(archivo_detalles , genero , nombre_salida)"
   ]
  },
  {
   "cell_type": "code",
   "execution_count": 4,
   "metadata": {},
   "outputs": [],
   "source": [
    "archivo_detalles = \"Proyectos\\Modulo-2\\Adalab-proyecto-da-promo-G-modulo-2-team-1\\Comedia\\IMDb\\detalles_cortos_comedia_2000_2004.csv\"\n",
    "genero = \"Comedia\"\n",
    "nombre_salida = \"Proyectos\\Modulo-2\\Adalab-proyecto-da-promo-G-modulo-2-team-1\\Comedia\\IMDb\\detalles_cortos_comedia_2000_2004.csv\"\n",
    "\n",
    "agregar_genero(archivo_detalles , genero , nombre_salida)"
   ]
  },
  {
   "cell_type": "code",
   "execution_count": 44,
   "metadata": {},
   "outputs": [],
   "source": [
    "archivo_detalles = \"Proyectos\\Modulo-2\\Adalab-proyecto-da-promo-G-modulo-2-team-1\\Comedia\\IMDb\\detalles_pelis_comedia_2000_2004.csv\"\n",
    "genero = \"Comedia\"\n",
    "nombre_salida = \"Proyectos\\Modulo-2\\Adalab-proyecto-da-promo-G-modulo-2-team-1\\Comedia\\IMDb\\detalles_pelis_comedia_2000_2004.csv\"\n",
    "\n",
    "agregar_genero(archivo_detalles , genero , nombre_salida)"
   ]
  },
  {
   "cell_type": "code",
   "execution_count": 3,
   "metadata": {},
   "outputs": [],
   "source": [
    "archivo_detalles = \"Proyectos\\Modulo-2\\Adalab-proyecto-da-promo-G-modulo-2-team-1\\Accion\\IMDb\\detalles_cortos_accion_2000_2004.csv\"\n",
    "genero = \"Accion\"\n",
    "nombre_salida = \"Proyectos\\Modulo-2\\Adalab-proyecto-da-promo-G-modulo-2-team-1\\Accion\\IMDb\\detalles_cortos_accion_2000_2004.csv\"\n",
    "\n",
    "agregar_genero(archivo_detalles , genero , nombre_salida)"
   ]
  },
  {
   "cell_type": "code",
   "execution_count": 57,
   "metadata": {},
   "outputs": [],
   "source": [
    "archivo_detalles = \"Proyectos\\Modulo-2\\Adalab-proyecto-da-promo-G-modulo-2-team-1\\Accion\\IMDb\\detalles_pelis_accion_2000_2004.csv\"\n",
    "genero = \"Accion\"\n",
    "nombre_salida = \"detalles_pelis_accion_2000_2004.csv\"\n",
    "\n",
    "agregar_genero(archivo_detalles , genero , nombre_salida)"
   ]
  }
 ],
 "metadata": {
  "kernelspec": {
   "display_name": "Python 3",
   "language": "python",
   "name": "python3"
  },
  "language_info": {
   "codemirror_mode": {
    "name": "ipython",
    "version": 3
   },
   "file_extension": ".py",
   "mimetype": "text/x-python",
   "name": "python",
   "nbconvert_exporter": "python",
   "pygments_lexer": "ipython3",
   "version": "3.9.13"
  }
 },
 "nbformat": 4,
 "nbformat_minor": 2
}
